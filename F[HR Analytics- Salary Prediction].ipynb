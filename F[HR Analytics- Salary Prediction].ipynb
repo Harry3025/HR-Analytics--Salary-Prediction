{
 "cells": [
  {
   "cell_type": "markdown",
   "id": "553a569a",
   "metadata": {},
   "source": [
    "### Loading necessary Libraries"
   ]
  },
  {
   "cell_type": "code",
   "execution_count": 1,
   "id": "9cb11ea1",
   "metadata": {},
   "outputs": [],
   "source": [
    "import numpy as np # linear algebra\n",
    "import pandas as pd # data processing, CSV file I/O (e.g. pd.read_csv)\n",
    "import matplotlib.pyplot as plt\n",
    "import seaborn as sns\n",
    "from dython import nominal\n",
    "\n",
    "\n",
    "import warnings\n",
    "warnings.filterwarnings(\"ignore\")"
   ]
  },
  {
   "cell_type": "markdown",
   "id": "e7916f3f",
   "metadata": {},
   "source": [
    "### Introduction"
   ]
  },
  {
   "cell_type": "markdown",
   "id": "946c585e",
   "metadata": {},
   "source": [
    "HR Analytics helps us with interpreting organizational data. It finds out the people-related trends in the data and helps the HR Department take the appropriate steps to keep the organization running smoothly and profitably.\n",
    " \n",
    " \n",
    "**Agenda:** Identify how salary is varying with respect to other considerable factors.\n",
    "\n",
    "\n",
    "### Feature Description\n",
    "\n",
    "Gender - talks of the gender - Male or female\n",
    "\n",
    "Business - if the person has a business or no\n",
    "\n",
    "Age - age of the person\n",
    "\n",
    "Salary - CTC of the employee\n",
    "\n",
    "Dependants - number of people dependant on the person\n",
    "\n",
    "Months - duration of the person employed with the company\n",
    "\n",
    "Calls - if the person has authority to make calls or not\n",
    "\n",
    "Type - salary settlement type\n",
    "\n",
    "Billing - Subscribed to billing plans or no\n",
    "\n",
    "Unit sales - unit sale made by the person\n",
    "\n",
    "Total sales - total sales made by the person\n",
    "\n",
    "Rating - If he has been given a rating by a superior or no\n",
    "\n",
    "Bonus - amount received by a person as bonus for sales\n",
    "\n",
    "Base pay - Base pay of the employee\n",
    "\n",
    "Unit price - The Unit price of a sale\n",
    "\n",
    "Volume - volume allotted to a person\n",
    "\n",
    "Opening balance - The opening balance of an employee\n",
    "\n",
    "Low - lowest balance allotted to a person.\n",
    "\n",
    "Closing Balance- The closing balance of an employee\n",
    "\n",
    "Education- Educational background of an employee."
   ]
  },
  {
   "cell_type": "markdown",
   "id": "0644263e",
   "metadata": {},
   "source": [
    "### Loading the dataset"
   ]
  },
  {
   "cell_type": "code",
   "execution_count": 2,
   "id": "b61a6ed0",
   "metadata": {},
   "outputs": [],
   "source": [
    "data = pd.read_csv('C:/Users/vicky/Downloads/New_data_Set.csv')"
   ]
  },
  {
   "cell_type": "markdown",
   "id": "f432b9ed",
   "metadata": {},
   "source": [
    "### Print first 10 Data points"
   ]
  },
  {
   "cell_type": "code",
   "execution_count": 3,
   "id": "227aa5c9",
   "metadata": {},
   "outputs": [
    {
     "data": {
      "text/html": [
       "<div>\n",
       "<style scoped>\n",
       "    .dataframe tbody tr th:only-of-type {\n",
       "        vertical-align: middle;\n",
       "    }\n",
       "\n",
       "    .dataframe tbody tr th {\n",
       "        vertical-align: top;\n",
       "    }\n",
       "\n",
       "    .dataframe thead th {\n",
       "        text-align: right;\n",
       "    }\n",
       "</style>\n",
       "<table border=\"1\" class=\"dataframe\">\n",
       "  <thead>\n",
       "    <tr style=\"text-align: right;\">\n",
       "      <th></th>\n",
       "      <th>Gender</th>\n",
       "      <th>Business</th>\n",
       "      <th>Dependancies</th>\n",
       "      <th>Calls</th>\n",
       "      <th>Type</th>\n",
       "      <th>Billing</th>\n",
       "      <th>Rating</th>\n",
       "      <th>Age</th>\n",
       "      <th>Salary</th>\n",
       "      <th>Base_pay</th>\n",
       "      <th>Bonus</th>\n",
       "      <th>Unit_Price</th>\n",
       "      <th>Volume</th>\n",
       "      <th>openingbalance</th>\n",
       "      <th>closingbalance</th>\n",
       "      <th>low</th>\n",
       "      <th>Unit_Sales</th>\n",
       "      <th>Total_Sales</th>\n",
       "      <th>Months</th>\n",
       "      <th>Education</th>\n",
       "    </tr>\n",
       "  </thead>\n",
       "  <tbody>\n",
       "    <tr>\n",
       "      <th>0</th>\n",
       "      <td>Female</td>\n",
       "      <td>0</td>\n",
       "      <td>No</td>\n",
       "      <td>Yes</td>\n",
       "      <td>Month-to-month</td>\n",
       "      <td>No</td>\n",
       "      <td>Yes</td>\n",
       "      <td>18</td>\n",
       "      <td>5089.00000</td>\n",
       "      <td>2035.600000</td>\n",
       "      <td>254.450000</td>\n",
       "      <td>3.77</td>\n",
       "      <td>21226600</td>\n",
       "      <td>3.7500</td>\n",
       "      <td>3.760</td>\n",
       "      <td>3.65</td>\n",
       "      <td>18.25</td>\n",
       "      <td>18.8</td>\n",
       "      <td>0</td>\n",
       "      <td>High School or less</td>\n",
       "    </tr>\n",
       "    <tr>\n",
       "      <th>1</th>\n",
       "      <td>Female</td>\n",
       "      <td>0</td>\n",
       "      <td>No</td>\n",
       "      <td>Yes</td>\n",
       "      <td>Month-to-month</td>\n",
       "      <td>No</td>\n",
       "      <td>Yes</td>\n",
       "      <td>19</td>\n",
       "      <td>5698.12000</td>\n",
       "      <td>2279.248000</td>\n",
       "      <td>284.906000</td>\n",
       "      <td>3.74</td>\n",
       "      <td>10462800</td>\n",
       "      <td>3.8500</td>\n",
       "      <td>3.680</td>\n",
       "      <td>3.65</td>\n",
       "      <td>18.40</td>\n",
       "      <td>18.85</td>\n",
       "      <td>0</td>\n",
       "      <td>High School or less</td>\n",
       "    </tr>\n",
       "    <tr>\n",
       "      <th>2</th>\n",
       "      <td>Male</td>\n",
       "      <td>0</td>\n",
       "      <td>No</td>\n",
       "      <td>Yes</td>\n",
       "      <td>Month-to-month</td>\n",
       "      <td>Yes</td>\n",
       "      <td>No</td>\n",
       "      <td>22</td>\n",
       "      <td>5896.65000</td>\n",
       "      <td>2358.660000</td>\n",
       "      <td>294.832500</td>\n",
       "      <td>3.89</td>\n",
       "      <td>18761000</td>\n",
       "      <td>4.2300</td>\n",
       "      <td>4.290</td>\n",
       "      <td>3.72</td>\n",
       "      <td>18.70</td>\n",
       "      <td>18.9</td>\n",
       "      <td>0</td>\n",
       "      <td>High School or less</td>\n",
       "    </tr>\n",
       "    <tr>\n",
       "      <th>3</th>\n",
       "      <td>Female</td>\n",
       "      <td>1</td>\n",
       "      <td>No</td>\n",
       "      <td>Yes</td>\n",
       "      <td>Month-to-month</td>\n",
       "      <td>Yes</td>\n",
       "      <td>Yes</td>\n",
       "      <td>21</td>\n",
       "      <td>6125.12000</td>\n",
       "      <td>2450.048000</td>\n",
       "      <td>306.256000</td>\n",
       "      <td>4.35</td>\n",
       "      <td>66130600</td>\n",
       "      <td>4.2600</td>\n",
       "      <td>4.310</td>\n",
       "      <td>3.83</td>\n",
       "      <td>18.75</td>\n",
       "      <td>19</td>\n",
       "      <td>0</td>\n",
       "      <td>High School or less</td>\n",
       "    </tr>\n",
       "    <tr>\n",
       "      <th>4</th>\n",
       "      <td>Male</td>\n",
       "      <td>0</td>\n",
       "      <td>No</td>\n",
       "      <td>Yes</td>\n",
       "      <td>Month-to-month</td>\n",
       "      <td>Yes</td>\n",
       "      <td>Yes</td>\n",
       "      <td>23</td>\n",
       "      <td>6245.00000</td>\n",
       "      <td>2498.000000</td>\n",
       "      <td>312.250000</td>\n",
       "      <td>4.34</td>\n",
       "      <td>26868200</td>\n",
       "      <td>4.7900</td>\n",
       "      <td>4.410</td>\n",
       "      <td>4.08</td>\n",
       "      <td>18.80</td>\n",
       "      <td>19.05</td>\n",
       "      <td>1</td>\n",
       "      <td>High School or less</td>\n",
       "    </tr>\n",
       "    <tr>\n",
       "      <th>5</th>\n",
       "      <td>Male</td>\n",
       "      <td>0</td>\n",
       "      <td>No</td>\n",
       "      <td>Yes</td>\n",
       "      <td>Two year</td>\n",
       "      <td>Yes</td>\n",
       "      <td>No</td>\n",
       "      <td>23</td>\n",
       "      <td>6444.23000</td>\n",
       "      <td>2577.692000</td>\n",
       "      <td>322.211500</td>\n",
       "      <td>4.37</td>\n",
       "      <td>29869600</td>\n",
       "      <td>5.8800</td>\n",
       "      <td>5.040</td>\n",
       "      <td>4.13</td>\n",
       "      <td>18.80</td>\n",
       "      <td>19.1</td>\n",
       "      <td>1</td>\n",
       "      <td>High School or less</td>\n",
       "    </tr>\n",
       "    <tr>\n",
       "      <th>6</th>\n",
       "      <td>Male</td>\n",
       "      <td>0</td>\n",
       "      <td>Yes</td>\n",
       "      <td>No</td>\n",
       "      <td>Two year</td>\n",
       "      <td>Yes</td>\n",
       "      <td>No</td>\n",
       "      <td>23</td>\n",
       "      <td>6455.50000</td>\n",
       "      <td>2582.200000</td>\n",
       "      <td>322.775000</td>\n",
       "      <td>4.42</td>\n",
       "      <td>25239200</td>\n",
       "      <td>6.0925</td>\n",
       "      <td>5.590</td>\n",
       "      <td>4.15</td>\n",
       "      <td>18.80</td>\n",
       "      <td>19.1</td>\n",
       "      <td>1</td>\n",
       "      <td>High School or less</td>\n",
       "    </tr>\n",
       "    <tr>\n",
       "      <th>7</th>\n",
       "      <td>Female</td>\n",
       "      <td>0</td>\n",
       "      <td>No</td>\n",
       "      <td>Yes</td>\n",
       "      <td>One year</td>\n",
       "      <td>Yes</td>\n",
       "      <td>No</td>\n",
       "      <td>24</td>\n",
       "      <td>6458.35722</td>\n",
       "      <td>2583.342888</td>\n",
       "      <td>322.917861</td>\n",
       "      <td>4.44</td>\n",
       "      <td>28307500</td>\n",
       "      <td>6.1000</td>\n",
       "      <td>5.670</td>\n",
       "      <td>4.21</td>\n",
       "      <td>18.80</td>\n",
       "      <td>19.15</td>\n",
       "      <td>1</td>\n",
       "      <td>Intermediate</td>\n",
       "    </tr>\n",
       "    <tr>\n",
       "      <th>8</th>\n",
       "      <td>Female</td>\n",
       "      <td>1</td>\n",
       "      <td>No</td>\n",
       "      <td>Yes</td>\n",
       "      <td>Month-to-month</td>\n",
       "      <td>Yes</td>\n",
       "      <td>Yes</td>\n",
       "      <td>24</td>\n",
       "      <td>6529.23000</td>\n",
       "      <td>2611.692000</td>\n",
       "      <td>326.461500</td>\n",
       "      <td>4.45</td>\n",
       "      <td>24295600</td>\n",
       "      <td>6.1500</td>\n",
       "      <td>6.170</td>\n",
       "      <td>4.27</td>\n",
       "      <td>18.85</td>\n",
       "      <td>19.2</td>\n",
       "      <td>1</td>\n",
       "      <td>Intermediate</td>\n",
       "    </tr>\n",
       "    <tr>\n",
       "      <th>9</th>\n",
       "      <td>Male</td>\n",
       "      <td>0</td>\n",
       "      <td>No</td>\n",
       "      <td>Yes</td>\n",
       "      <td>Month-to-month</td>\n",
       "      <td>Yes</td>\n",
       "      <td>No</td>\n",
       "      <td>43</td>\n",
       "      <td>6682.33000</td>\n",
       "      <td>2672.932000</td>\n",
       "      <td>334.116500</td>\n",
       "      <td>4.41</td>\n",
       "      <td>17671600</td>\n",
       "      <td>6.2600</td>\n",
       "      <td>6.095</td>\n",
       "      <td>4.22</td>\n",
       "      <td>18.85</td>\n",
       "      <td>19.2</td>\n",
       "      <td>1</td>\n",
       "      <td>Intermediate</td>\n",
       "    </tr>\n",
       "  </tbody>\n",
       "</table>\n",
       "</div>"
      ],
      "text/plain": [
       "   Gender  Business Dependancies Calls            Type Billing Rating  Age  \\\n",
       "0  Female         0           No   Yes  Month-to-month      No    Yes   18   \n",
       "1  Female         0           No   Yes  Month-to-month      No    Yes   19   \n",
       "2    Male         0           No   Yes  Month-to-month     Yes     No   22   \n",
       "3  Female         1           No   Yes  Month-to-month     Yes    Yes   21   \n",
       "4    Male         0           No   Yes  Month-to-month     Yes    Yes   23   \n",
       "5    Male         0           No   Yes        Two year     Yes     No   23   \n",
       "6    Male         0          Yes    No        Two year     Yes     No   23   \n",
       "7  Female         0           No   Yes        One year     Yes     No   24   \n",
       "8  Female         1           No   Yes  Month-to-month     Yes    Yes   24   \n",
       "9    Male         0           No   Yes  Month-to-month     Yes     No   43   \n",
       "\n",
       "       Salary     Base_pay       Bonus  Unit_Price    Volume  openingbalance  \\\n",
       "0  5089.00000  2035.600000  254.450000        3.77  21226600          3.7500   \n",
       "1  5698.12000  2279.248000  284.906000        3.74  10462800          3.8500   \n",
       "2  5896.65000  2358.660000  294.832500        3.89  18761000          4.2300   \n",
       "3  6125.12000  2450.048000  306.256000        4.35  66130600          4.2600   \n",
       "4  6245.00000  2498.000000  312.250000        4.34  26868200          4.7900   \n",
       "5  6444.23000  2577.692000  322.211500        4.37  29869600          5.8800   \n",
       "6  6455.50000  2582.200000  322.775000        4.42  25239200          6.0925   \n",
       "7  6458.35722  2583.342888  322.917861        4.44  28307500          6.1000   \n",
       "8  6529.23000  2611.692000  326.461500        4.45  24295600          6.1500   \n",
       "9  6682.33000  2672.932000  334.116500        4.41  17671600          6.2600   \n",
       "\n",
       "   closingbalance   low  Unit_Sales Total_Sales  Months            Education  \n",
       "0           3.760  3.65       18.25        18.8       0  High School or less  \n",
       "1           3.680  3.65       18.40       18.85       0  High School or less  \n",
       "2           4.290  3.72       18.70        18.9       0  High School or less  \n",
       "3           4.310  3.83       18.75          19       0  High School or less  \n",
       "4           4.410  4.08       18.80       19.05       1  High School or less  \n",
       "5           5.040  4.13       18.80        19.1       1  High School or less  \n",
       "6           5.590  4.15       18.80        19.1       1  High School or less  \n",
       "7           5.670  4.21       18.80       19.15       1         Intermediate  \n",
       "8           6.170  4.27       18.85        19.2       1         Intermediate  \n",
       "9           6.095  4.22       18.85        19.2       1         Intermediate  "
      ]
     },
     "execution_count": 3,
     "metadata": {},
     "output_type": "execute_result"
    }
   ],
   "source": [
    "data.head(10)"
   ]
  },
  {
   "cell_type": "markdown",
   "id": "4f2cf422",
   "metadata": {},
   "source": [
    "### Checking the data type and Null values (if any)"
   ]
  },
  {
   "cell_type": "code",
   "execution_count": 4,
   "id": "1ca1e63b",
   "metadata": {},
   "outputs": [
    {
     "name": "stdout",
     "output_type": "stream",
     "text": [
      "<class 'pandas.core.frame.DataFrame'>\n",
      "RangeIndex: 5000 entries, 0 to 4999\n",
      "Data columns (total 20 columns):\n",
      " #   Column          Non-Null Count  Dtype  \n",
      "---  ------          --------------  -----  \n",
      " 0   Gender          5000 non-null   object \n",
      " 1   Business        5000 non-null   int64  \n",
      " 2   Dependancies    5000 non-null   object \n",
      " 3   Calls           5000 non-null   object \n",
      " 4   Type            5000 non-null   object \n",
      " 5   Billing         5000 non-null   object \n",
      " 6   Rating          5000 non-null   object \n",
      " 7   Age             5000 non-null   int64  \n",
      " 8   Salary          5000 non-null   float64\n",
      " 9   Base_pay        4977 non-null   float64\n",
      " 10  Bonus           5000 non-null   float64\n",
      " 11  Unit_Price      5000 non-null   float64\n",
      " 12  Volume          5000 non-null   int64  \n",
      " 13  openingbalance  3524 non-null   float64\n",
      " 14  closingbalance  5000 non-null   float64\n",
      " 15  low             5000 non-null   float64\n",
      " 16  Unit_Sales      5000 non-null   float64\n",
      " 17  Total_Sales     4992 non-null   object \n",
      " 18  Months          5000 non-null   int64  \n",
      " 19  Education       5000 non-null   object \n",
      "dtypes: float64(8), int64(4), object(8)\n",
      "memory usage: 781.4+ KB\n"
     ]
    }
   ],
   "source": [
    "data.info()"
   ]
  },
  {
   "cell_type": "markdown",
   "id": "eb596c36",
   "metadata": {},
   "source": [
    "### Checking the unique values in all categorical columns"
   ]
  },
  {
   "cell_type": "code",
   "execution_count": 5,
   "id": "2d0ac482",
   "metadata": {},
   "outputs": [
    {
     "name": "stdout",
     "output_type": "stream",
     "text": [
      "unique values in Gender: ['Female' 'Male']\n",
      "unique values in Dependancies: ['No' 'Yes']\n",
      "unique values in Type: ['Month-to-month' 'Two year' 'One year']\n",
      "unique values in Education: ['High School or less' 'Intermediate' 'Graduation' 'PG']\n",
      "unique values in Billing: ['No' 'Yes']\n",
      "unique values in Calls: ['Yes' 'No']\n",
      "unique values in Business: [0 1]\n",
      "unique values in Rating: ['Yes' 'No']\n",
      "unique values in Months: [ 0  1  2  3  4  5  6  7  8  9 10 11 12 13 14 15 16 17 18 19 20 21 22 23\n",
      " 24 25 26 27 28 29 30 31 32 33 34 35 36 37 38 39 40 41 42 43 44 45 46 47\n",
      " 48 49 50 51 52 53 54 55 56 57 58 59 60 61 62 63 64 65 66 67 68 69 70 71\n",
      " 72]\n"
     ]
    }
   ],
   "source": [
    "print('unique values in Gender:',data['Gender'].unique())\n",
    "print('unique values in Dependancies:',data['Dependancies'].unique())\n",
    "print('unique values in Type:',data['Type'].unique())\n",
    "print('unique values in Education:',data['Education'].unique())\n",
    "print('unique values in Billing:',data['Billing'].unique())\n",
    "print('unique values in Calls:',data['Calls'].unique())\n",
    "print('unique values in Business:',data['Business'].unique())\n",
    "print('unique values in Rating:',data['Rating'].unique())\n",
    "print('unique values in Months:',data['Months'].unique())"
   ]
  },
  {
   "cell_type": "markdown",
   "id": "a3dc83d7",
   "metadata": {},
   "source": [
    "### Converting the 'Total_asales' column to numeric data-type"
   ]
  },
  {
   "cell_type": "code",
   "execution_count": 6,
   "id": "77d85d22",
   "metadata": {},
   "outputs": [],
   "source": [
    "data['Total_Sales']=pd.to_numeric(data['Total_Sales'],errors='coerce')"
   ]
  },
  {
   "cell_type": "markdown",
   "id": "6ec9b9a6",
   "metadata": {},
   "source": [
    "### Checking for total no, of null values across all columns"
   ]
  },
  {
   "cell_type": "code",
   "execution_count": 7,
   "id": "1521702a",
   "metadata": {},
   "outputs": [
    {
     "data": {
      "text/plain": [
       "Gender               0\n",
       "Business             0\n",
       "Dependancies         0\n",
       "Calls                0\n",
       "Type                 0\n",
       "Billing              0\n",
       "Rating               0\n",
       "Age                  0\n",
       "Salary               0\n",
       "Base_pay            23\n",
       "Bonus                0\n",
       "Unit_Price           0\n",
       "Volume               0\n",
       "openingbalance    1476\n",
       "closingbalance       0\n",
       "low                  0\n",
       "Unit_Sales           0\n",
       "Total_Sales         16\n",
       "Months               0\n",
       "Education            0\n",
       "dtype: int64"
      ]
     },
     "execution_count": 7,
     "metadata": {},
     "output_type": "execute_result"
    }
   ],
   "source": [
    "data.isnull().sum()"
   ]
  },
  {
   "cell_type": "markdown",
   "id": "ac37671a",
   "metadata": {},
   "source": [
    "##### Since we have less very less no. of null values in Base_pay and Total_Sales columns so we can drop the null value rows as it will not have any major data loss but in opening balance the null values are more than 25% so we will just fill them by median values so that outlier won't have much impact on the accuracy of our model going further "
   ]
  },
  {
   "cell_type": "code",
   "execution_count": 8,
   "id": "3867a49b",
   "metadata": {},
   "outputs": [],
   "source": [
    "data['openingbalance'].fillna(data['openingbalance'].median(),inplace=True)"
   ]
  },
  {
   "cell_type": "code",
   "execution_count": 9,
   "id": "077b136d",
   "metadata": {},
   "outputs": [],
   "source": [
    "data.dropna(subset = ['Base_pay'], axis = 0, inplace = True)"
   ]
  },
  {
   "cell_type": "code",
   "execution_count": 10,
   "id": "68ce305f",
   "metadata": {},
   "outputs": [],
   "source": [
    "data.dropna(subset = ['Total_Sales'], axis = 0, inplace = True)"
   ]
  },
  {
   "cell_type": "markdown",
   "id": "302b6bf4",
   "metadata": {},
   "source": [
    "### Checking now if there is no null values present in our dataset"
   ]
  },
  {
   "cell_type": "code",
   "execution_count": 11,
   "id": "36c3fac5",
   "metadata": {},
   "outputs": [
    {
     "data": {
      "text/plain": [
       "Gender            0\n",
       "Business          0\n",
       "Dependancies      0\n",
       "Calls             0\n",
       "Type              0\n",
       "Billing           0\n",
       "Rating            0\n",
       "Age               0\n",
       "Salary            0\n",
       "Base_pay          0\n",
       "Bonus             0\n",
       "Unit_Price        0\n",
       "Volume            0\n",
       "openingbalance    0\n",
       "closingbalance    0\n",
       "low               0\n",
       "Unit_Sales        0\n",
       "Total_Sales       0\n",
       "Months            0\n",
       "Education         0\n",
       "dtype: int64"
      ]
     },
     "execution_count": 11,
     "metadata": {},
     "output_type": "execute_result"
    }
   ],
   "source": [
    "data.isnull().sum()"
   ]
  },
  {
   "cell_type": "markdown",
   "id": "4dc77a6a",
   "metadata": {},
   "source": [
    "### Checking correlation between all columns to see the correlation with our target variable (Salary)"
   ]
  },
  {
   "cell_type": "code",
   "execution_count": 12,
   "id": "9ef1c7f0",
   "metadata": {},
   "outputs": [
    {
     "data": {
      "image/png": "[encoded data removed]",
      "text/plain": [
       "<Figure size 1440x1440 with 2 Axes>"
      ]
     },
     "metadata": {
      "needs_background": "light"
     },
     "output_type": "display_data"
    },
    {
     "data": {
      "text/plain": [
       "{'corr':                       Gender (nom)  Business (con)  Dependancies (nom)  \\\n",
       " Gender (nom)              1.000000        0.005787            0.000000   \n",
       " Business (con)            0.005787        1.000000            0.195442   \n",
       " Dependancies (nom)        0.000000        0.195442            1.000000   \n",
       " Calls (nom)               0.000000        0.010534            0.000000   \n",
       " Type (nom)                0.000000        0.146447            0.241030   \n",
       " Billing (nom)             0.000000        0.156300            0.108436   \n",
       " Rating (nom)              0.002167        0.147175            0.161192   \n",
       " Age (con)                 0.025434       -0.007391            0.017969   \n",
       " Salary (con)              0.021337       -0.011353            0.012738   \n",
       " Base_pay (con)            0.021305       -0.011682            0.013443   \n",
       " Bonus (con)               0.021337       -0.011353            0.012738   \n",
       " Unit_Price (con)          0.026027        0.000416            0.002948   \n",
       " Volume (con)              0.016180        0.018256            0.008900   \n",
       " openingbalance (con)      0.005654        0.008545            0.004361   \n",
       " closingbalance (con)      0.001206        0.003088            0.018180   \n",
       " low (con)                 0.020064       -0.003377            0.004014   \n",
       " Unit_Sales (con)          0.023336       -0.020549            0.010226   \n",
       " Total_Sales (con)         0.011301       -0.018937            0.004949   \n",
       " Months (con)              0.010611       -0.013220            0.001133   \n",
       " Education (nom)           0.000000        0.026708            0.000000   \n",
       " \n",
       "                       Calls (nom)  Type (nom)  Billing (nom)  Rating (nom)  \\\n",
       " Gender (nom)             0.000000    0.000000       0.000000      0.002167   \n",
       " Business (con)           0.010534    0.146447       0.156300      0.147175   \n",
       " Dependancies (nom)       0.000000    0.241030       0.108436      0.161192   \n",
       " Calls (nom)              1.000000    0.000000       0.000000      0.000000   \n",
       " Type (nom)               0.000000    1.000000       0.176219      0.410327   \n",
       " Billing (nom)            0.000000    0.176219       1.000000      0.191810   \n",
       " Rating (nom)             0.000000    0.410327       0.191810      1.000000   \n",
       " Age (con)                0.000606    0.003141       0.014798      0.010221   \n",
       " Salary (con)             0.030077    0.025231       0.004100      0.007397   \n",
       " Base_pay (con)           0.030318    0.025508       0.003575      0.006684   \n",
       " Bonus (con)              0.030077    0.025231       0.004100      0.007397   \n",
       " Unit_Price (con)         0.023933    0.031312       0.004535      0.009904   \n",
       " Volume (con)             0.012583    0.013165       0.011780      0.027311   \n",
       " openingbalance (con)     0.016717    0.024056       0.025955      0.012530   \n",
       " closingbalance (con)     0.005193    0.020508       0.026221      0.019434   \n",
       " low (con)                0.030340    0.033528       0.010199      0.010501   \n",
       " Unit_Sales (con)         0.029667    0.024824       0.003849      0.008880   \n",
       " Total_Sales (con)        0.033503    0.035327       0.015857      0.011063   \n",
       " Months (con)             0.024403    0.028771       0.016303      0.012553   \n",
       " Education (nom)          0.028149    0.000000       0.017113      0.018428   \n",
       " \n",
       "                       Age (con)  Salary (con)  Base_pay (con)  Bonus (con)  \\\n",
       " Gender (nom)           0.025434      0.021337        0.021305     0.021337   \n",
       " Business (con)        -0.007391     -0.011353       -0.011682    -0.011353   \n",
       " Dependancies (nom)     0.017969      0.012738        0.013443     0.012738   \n",
       " Calls (nom)            0.000606      0.030077        0.030318     0.030077   \n",
       " Type (nom)             0.003141      0.025231        0.025508     0.025231   \n",
       " Billing (nom)          0.014798      0.004100        0.003575     0.004100   \n",
       " Rating (nom)           0.010221      0.007397        0.006684     0.007397   \n",
       " Age (con)              1.000000      0.269555        0.269874     0.269555   \n",
       " Salary (con)           0.269555      1.000000        0.999288     1.000000   \n",
       " Base_pay (con)         0.269874      0.999288        1.000000     0.999288   \n",
       " Bonus (con)            0.269555      1.000000        0.999288     1.000000   \n",
       " Unit_Price (con)       0.161296      0.598432        0.601105     0.598432   \n",
       " Volume (con)          -0.035880     -0.210557       -0.210081    -0.210557   \n",
       " openingbalance (con)   0.084541      0.032226        0.031452     0.032226   \n",
       " closingbalance (con)   0.275404      0.290360        0.291618     0.290360   \n",
       " low (con)              0.230249      0.816043        0.819373     0.816043   \n",
       " Unit_Sales (con)       0.172909      0.942134        0.940947     0.942134   \n",
       " Total_Sales (con)      0.141155      0.892530        0.893429     0.892530   \n",
       " Months (con)           0.117146      0.600460        0.601194     0.600460   \n",
       " Education (nom)        0.234457      0.441101        0.440332     0.441101   \n",
       " \n",
       "                       Unit_Price (con)  Volume (con)  openingbalance (con)  \\\n",
       " Gender (nom)                  0.026027      0.016180              0.005654   \n",
       " Business (con)                0.000416      0.018256              0.008545   \n",
       " Dependancies (nom)            0.002948      0.008900              0.004361   \n",
       " Calls (nom)                   0.023933      0.012583              0.016717   \n",
       " Type (nom)                    0.031312      0.013165              0.024056   \n",
       " Billing (nom)                 0.004535      0.011780              0.025955   \n",
       " Rating (nom)                  0.009904      0.027311              0.012530   \n",
       " Age (con)                     0.161296     -0.035880              0.084541   \n",
       " Salary (con)                  0.598432     -0.210557              0.032226   \n",
       " Base_pay (con)                0.601105     -0.210081              0.031452   \n",
       " Bonus (con)                   0.598432     -0.210557              0.032226   \n",
       " Unit_Price (con)              1.000000     -0.048064             -0.049080   \n",
       " Volume (con)                 -0.048064      1.000000             -0.022242   \n",
       " openingbalance (con)         -0.049080     -0.022242              1.000000   \n",
       " closingbalance (con)          0.260540     -0.064022              0.295721   \n",
       " low (con)                     0.821205     -0.151245             -0.049177   \n",
       " Unit_Sales (con)              0.538859     -0.217020              0.036471   \n",
       " Total_Sales (con)             0.658016     -0.183945             -0.048842   \n",
       " Months (con)                  0.456879     -0.124369             -0.135666   \n",
       " Education (nom)               0.250503      0.081981              0.094387   \n",
       " \n",
       "                       closingbalance (con)  low (con)  Unit_Sales (con)  \\\n",
       " Gender (nom)                      0.001206   0.020064          0.023336   \n",
       " Business (con)                    0.003088  -0.003377         -0.020549   \n",
       " Dependancies (nom)                0.018180   0.004014          0.010226   \n",
       " Calls (nom)                       0.005193   0.030340          0.029667   \n",
       " Type (nom)                        0.020508   0.033528          0.024824   \n",
       " Billing (nom)                     0.026221   0.010199          0.003849   \n",
       " Rating (nom)                      0.019434   0.010501          0.008880   \n",
       " Age (con)                         0.275404   0.230249          0.172909   \n",
       " Salary (con)                      0.290360   0.816043          0.942134   \n",
       " Base_pay (con)                    0.291618   0.819373          0.940947   \n",
       " Bonus (con)                       0.290360   0.816043          0.942134   \n",
       " Unit_Price (con)                  0.260540   0.821205          0.538859   \n",
       " Volume (con)                     -0.064022  -0.151245         -0.217020   \n",
       " openingbalance (con)              0.295721  -0.049177          0.036471   \n",
       " closingbalance (con)              1.000000   0.331406          0.223461   \n",
       " low (con)                         0.331406   1.000000          0.762108   \n",
       " Unit_Sales (con)                  0.223461   0.762108          1.000000   \n",
       " Total_Sales (con)                 0.241208   0.896432          0.896115   \n",
       " Months (con)                      0.283472   0.616362          0.479307   \n",
       " Education (nom)                   0.114559   0.331181          0.304049   \n",
       " \n",
       "                       Total_Sales (con)  Months (con)  Education (nom)  \n",
       " Gender (nom)                   0.011301      0.010611         0.000000  \n",
       " Business (con)                -0.018937     -0.013220         0.026708  \n",
       " Dependancies (nom)             0.004949      0.001133         0.000000  \n",
       " Calls (nom)                    0.033503      0.024403         0.028149  \n",
       " Type (nom)                     0.035327      0.028771         0.000000  \n",
       " Billing (nom)                  0.015857      0.016303         0.017113  \n",
       " Rating (nom)                   0.011063      0.012553         0.018428  \n",
       " Age (con)                      0.141155      0.117146         0.234457  \n",
       " Salary (con)                   0.892530      0.600460         0.441101  \n",
       " Base_pay (con)                 0.893429      0.601194         0.440332  \n",
       " Bonus (con)                    0.892530      0.600460         0.441101  \n",
       " Unit_Price (con)               0.658016      0.456879         0.250503  \n",
       " Volume (con)                  -0.183945     -0.124369         0.081981  \n",
       " openingbalance (con)          -0.048842     -0.135666         0.094387  \n",
       " closingbalance (con)           0.241208      0.283472         0.114559  \n",
       " low (con)                      0.896432      0.616362         0.331181  \n",
       " Unit_Sales (con)               0.896115      0.479307         0.304049  \n",
       " Total_Sales (con)              1.000000      0.702813         0.364041  \n",
       " Months (con)                   0.702813      1.000000         0.290498  \n",
       " Education (nom)                0.364041      0.290498         1.000000  ,\n",
       " 'ax': <AxesSubplot:>}"
      ]
     },
     "execution_count": 12,
     "metadata": {},
     "output_type": "execute_result"
    }
   ],
   "source": [
    "nominal.associations(data,figsize=(20,20),mark_columns=True)"
   ]
  },
  {
   "cell_type": "markdown",
   "id": "fca6296d",
   "metadata": {},
   "source": [
    "### Checking to ensure zero duplicacy"
   ]
  },
  {
   "cell_type": "code",
   "execution_count": 13,
   "id": "454f7108",
   "metadata": {},
   "outputs": [
    {
     "data": {
      "text/html": [
       "<div>\n",
       "<style scoped>\n",
       "    .dataframe tbody tr th:only-of-type {\n",
       "        vertical-align: middle;\n",
       "    }\n",
       "\n",
       "    .dataframe tbody tr th {\n",
       "        vertical-align: top;\n",
       "    }\n",
       "\n",
       "    .dataframe thead th {\n",
       "        text-align: right;\n",
       "    }\n",
       "</style>\n",
       "<table border=\"1\" class=\"dataframe\">\n",
       "  <thead>\n",
       "    <tr style=\"text-align: right;\">\n",
       "      <th></th>\n",
       "      <th>Gender</th>\n",
       "      <th>Business</th>\n",
       "      <th>Dependancies</th>\n",
       "      <th>Calls</th>\n",
       "      <th>Type</th>\n",
       "      <th>Billing</th>\n",
       "      <th>Rating</th>\n",
       "      <th>Age</th>\n",
       "      <th>Salary</th>\n",
       "      <th>Base_pay</th>\n",
       "      <th>Bonus</th>\n",
       "      <th>Unit_Price</th>\n",
       "      <th>Volume</th>\n",
       "      <th>openingbalance</th>\n",
       "      <th>closingbalance</th>\n",
       "      <th>low</th>\n",
       "      <th>Unit_Sales</th>\n",
       "      <th>Total_Sales</th>\n",
       "      <th>Months</th>\n",
       "      <th>Education</th>\n",
       "    </tr>\n",
       "  </thead>\n",
       "  <tbody>\n",
       "  </tbody>\n",
       "</table>\n",
       "</div>"
      ],
      "text/plain": [
       "Empty DataFrame\n",
       "Columns: [Gender, Business, Dependancies, Calls, Type, Billing, Rating, Age, Salary, Base_pay, Bonus, Unit_Price, Volume, openingbalance, closingbalance, low, Unit_Sales, Total_Sales, Months, Education]\n",
       "Index: []"
      ]
     },
     "execution_count": 13,
     "metadata": {},
     "output_type": "execute_result"
    }
   ],
   "source": [
    "data[data.duplicated()]"
   ]
  },
  {
   "cell_type": "markdown",
   "id": "8b208960",
   "metadata": {},
   "source": [
    "### Gender wise distrbution"
   ]
  },
  {
   "cell_type": "code",
   "execution_count": 14,
   "id": "ea6aedfa",
   "metadata": {},
   "outputs": [
    {
     "name": "stdout",
     "output_type": "stream",
     "text": [
      "Male      2504\n",
      "Female    2457\n",
      "Name: Gender, dtype: int64\n"
     ]
    },
    {
     "data": {
      "image/png": "[encoded data removed]",
      "text/plain": [
       "<Figure size 216x360 with 1 Axes>"
      ]
     },
     "metadata": {
      "needs_background": "light"
     },
     "output_type": "display_data"
    }
   ],
   "source": [
    "print(data['Gender'].value_counts())\n",
    "\n",
    "plt.figure(figsize = (3,5))\n",
    "plt.title('Gender-wise Distribution')\n",
    "sns.countplot(data['Gender'])\n",
    "plt.grid(True)"
   ]
  },
  {
   "cell_type": "markdown",
   "id": "15161c21",
   "metadata": {},
   "source": [
    "### Dependancy-wise Distribution of Employees"
   ]
  },
  {
   "cell_type": "code",
   "execution_count": 15,
   "id": "4d74d583",
   "metadata": {},
   "outputs": [
    {
     "name": "stdout",
     "output_type": "stream",
     "text": [
      "No     3500\n",
      "Yes    1461\n",
      "Name: Dependancies, dtype: int64\n"
     ]
    },
    {
     "data": {
      "image/png": "[encoded data removed]",
      "text/plain": [
       "<Figure size 360x576 with 1 Axes>"
      ]
     },
     "metadata": {
      "needs_background": "light"
     },
     "output_type": "display_data"
    }
   ],
   "source": [
    "print(data['Dependancies'].value_counts())\n",
    "\n",
    "plt.figure(figsize = (5,8))\n",
    "plt.title('Dependancy-wise Distribution of Employees')\n",
    "sns.countplot(data['Dependancies'])\n",
    "plt.grid(True)"
   ]
  },
  {
   "cell_type": "markdown",
   "id": "eb24c5d8",
   "metadata": {},
   "source": [
    "### Type-wise Distribution of Employees"
   ]
  },
  {
   "cell_type": "code",
   "execution_count": 16,
   "id": "020d7c2a",
   "metadata": {},
   "outputs": [
    {
     "name": "stdout",
     "output_type": "stream",
     "text": [
      "Month-to-month    2755\n",
      "Two year          1187\n",
      "One year          1019\n",
      "Name: Type, dtype: int64\n"
     ]
    },
    {
     "data": {
      "image/png": "[encoded data removed]",
      "text/plain": [
       "<Figure size 360x576 with 1 Axes>"
      ]
     },
     "metadata": {
      "needs_background": "light"
     },
     "output_type": "display_data"
    }
   ],
   "source": [
    "print(data['Type'].value_counts())\n",
    "\n",
    "plt.figure(figsize = (5,8))\n",
    "plt.title('Type-wise Distribution of Employees')\n",
    "sns.countplot(data['Type'])\n",
    "plt.grid(True)"
   ]
  },
  {
   "cell_type": "markdown",
   "id": "01404a02",
   "metadata": {},
   "source": [
    "### Qualification-wise Distribution of Employees"
   ]
  },
  {
   "cell_type": "code",
   "execution_count": 17,
   "id": "6d847ea5",
   "metadata": {},
   "outputs": [
    {
     "name": "stdout",
     "output_type": "stream",
     "text": [
      "PG                     2944\n",
      "Graduation             1977\n",
      "Intermediate             26\n",
      "High School or less      14\n",
      "Name: Education, dtype: int64\n"
     ]
    },
    {
     "data": {
      "image/png": "[encoded data removed]",
      "text/plain": [
       "<Figure size 864x432 with 1 Axes>"
      ]
     },
     "metadata": {
      "needs_background": "light"
     },
     "output_type": "display_data"
    }
   ],
   "source": [
    "print(data['Education'].value_counts())\n",
    "\n",
    "plt.figure(figsize = (12,6))\n",
    "plt.title('Qualification-wise Distribution of Employees')\n",
    "sns.countplot(y = data['Education'])\n",
    "plt.grid(True)"
   ]
  },
  {
   "cell_type": "markdown",
   "id": "895562f2",
   "metadata": {},
   "source": [
    "### Subscription to Billing or not?"
   ]
  },
  {
   "cell_type": "code",
   "execution_count": 18,
   "id": "f071591c",
   "metadata": {},
   "outputs": [
    {
     "name": "stdout",
     "output_type": "stream",
     "text": [
      "Yes    2934\n",
      "No     2027\n",
      "Name: Billing, dtype: int64\n"
     ]
    },
    {
     "data": {
      "image/png": "[encoded data removed]",
      "text/plain": [
       "<Figure size 216x432 with 1 Axes>"
      ]
     },
     "metadata": {
      "needs_background": "light"
     },
     "output_type": "display_data"
    }
   ],
   "source": [
    "print(data['Billing'].value_counts())\n",
    "\n",
    "plt.figure(figsize = (3,6))\n",
    "plt.title('Subscription to Billing or not?')\n",
    "sns.countplot(data['Billing'])\n",
    "plt.grid(True)"
   ]
  },
  {
   "cell_type": "markdown",
   "id": "e656dc4f",
   "metadata": {},
   "source": [
    "### Employees making calls vs not making calls"
   ]
  },
  {
   "cell_type": "code",
   "execution_count": 19,
   "id": "318e5ba6",
   "metadata": {},
   "outputs": [
    {
     "name": "stdout",
     "output_type": "stream",
     "text": [
      "Yes    4502\n",
      "No      459\n",
      "Name: Calls, dtype: int64\n"
     ]
    },
    {
     "data": {
      "image/png": "[encoded data removed]",
      "text/plain": [
       "<Figure size 216x432 with 1 Axes>"
      ]
     },
     "metadata": {
      "needs_background": "light"
     },
     "output_type": "display_data"
    }
   ],
   "source": [
    "print(data['Calls'].value_counts())\n",
    "\n",
    "plt.figure(figsize = (3,6))\n",
    "plt.title('Employees making calls vs not making calls')\n",
    "sns.countplot(data['Calls'])\n",
    "plt.grid(True)"
   ]
  },
  {
   "cell_type": "markdown",
   "id": "fa5e3a99",
   "metadata": {},
   "source": [
    "### Rating-wise Distribution of Employees"
   ]
  },
  {
   "cell_type": "code",
   "execution_count": 20,
   "id": "238bf5b4",
   "metadata": {},
   "outputs": [
    {
     "name": "stdout",
     "output_type": "stream",
     "text": [
      "No     3651\n",
      "Yes    1310\n",
      "Name: Rating, dtype: int64\n"
     ]
    },
    {
     "data": {
      "image/png": "[encoded data removed]",
      "text/plain": [
       "<Figure size 216x432 with 1 Axes>"
      ]
     },
     "metadata": {
      "needs_background": "light"
     },
     "output_type": "display_data"
    }
   ],
   "source": [
    "print(data['Rating'].value_counts())\n",
    "\n",
    "plt.figure(figsize = (3,6))\n",
    "plt.title('Rating-wise Distribution of Employees')\n",
    "sns.countplot(data['Rating'])\n",
    "plt.grid(True)"
   ]
  },
  {
   "cell_type": "markdown",
   "id": "1f9914d0",
   "metadata": {},
   "source": [
    "### Gender-wise Salary Distribution on the basis of calls"
   ]
  },
  {
   "cell_type": "code",
   "execution_count": 21,
   "id": "21eaa008",
   "metadata": {},
   "outputs": [
    {
     "data": {
      "image/png": "[encoded data removed]",
      "text/plain": [
       "<Figure size 360x576 with 1 Axes>"
      ]
     },
     "metadata": {
      "needs_background": "light"
     },
     "output_type": "display_data"
    }
   ],
   "source": [
    "plt.figure(figsize = (5,8))\n",
    "plt.title('Gender-wise Salary Distribution on the basis of calls')\n",
    "sns.barplot(x = 'Calls', y = 'Salary', hue = 'Gender', data = data)\n",
    "plt.grid(True)"
   ]
  },
  {
   "cell_type": "markdown",
   "id": "63656dd0",
   "metadata": {},
   "source": [
    "### Gender-wise Salary Distribution on the basis of Rating"
   ]
  },
  {
   "cell_type": "code",
   "execution_count": 22,
   "id": "ad9f9019",
   "metadata": {},
   "outputs": [
    {
     "data": {
      "image/png": "[encoded data removed]",
      "text/plain": [
       "<Figure size 360x576 with 1 Axes>"
      ]
     },
     "metadata": {
      "needs_background": "light"
     },
     "output_type": "display_data"
    }
   ],
   "source": [
    "plt.figure(figsize = (5,8))\n",
    "plt.title('Gender-wise Salary Distribution on the basis of Rating')\n",
    "sns.barplot(x = 'Rating', y = 'Salary', hue = 'Gender', data = data)\n",
    "plt.grid(True)"
   ]
  },
  {
   "cell_type": "markdown",
   "id": "87d2bf84",
   "metadata": {},
   "source": [
    "### Gender-wise Salary Distribution on the basis of Education"
   ]
  },
  {
   "cell_type": "code",
   "execution_count": 23,
   "id": "d8d5a461",
   "metadata": {},
   "outputs": [
    {
     "data": {
      "image/png": "[encoded data removed]",
      "text/plain": [
       "<Figure size 576x576 with 1 Axes>"
      ]
     },
     "metadata": {
      "needs_background": "light"
     },
     "output_type": "display_data"
    }
   ],
   "source": [
    "plt.figure(figsize = (8,8))\n",
    "plt.title('Gender-wise Salary Distribution on the basis of Education')\n",
    "sns.barplot(x = 'Education', y = 'Salary', hue = 'Gender', data = data)\n",
    "plt.grid(True)"
   ]
  },
  {
   "cell_type": "markdown",
   "id": "4e719810",
   "metadata": {},
   "source": [
    "### Gender-wise Bonus Distribution on the basis of Education"
   ]
  },
  {
   "cell_type": "code",
   "execution_count": 24,
   "id": "740871ed",
   "metadata": {},
   "outputs": [
    {
     "data": {
      "image/png": "[encoded data removed]",
      "text/plain": [
       "<Figure size 576x576 with 1 Axes>"
      ]
     },
     "metadata": {
      "needs_background": "light"
     },
     "output_type": "display_data"
    }
   ],
   "source": [
    "plt.figure(figsize = (8,8))\n",
    "plt.title('Gender-wise Bonus Distribution on the basis of Education')\n",
    "sns.barplot(x = 'Education', y = 'Bonus', hue = 'Gender', data = data)\n",
    "plt.grid(True)"
   ]
  },
  {
   "cell_type": "markdown",
   "id": "c9d92d6d",
   "metadata": {},
   "source": [
    "### Gender-wise Bonus Distribution on the basis of Education"
   ]
  },
  {
   "cell_type": "code",
   "execution_count": 25,
   "id": "b0a1be56",
   "metadata": {},
   "outputs": [
    {
     "data": {
      "image/png": "[encoded data removed]",
      "text/plain": [
       "<Figure size 576x576 with 1 Axes>"
      ]
     },
     "metadata": {
      "needs_background": "light"
     },
     "output_type": "display_data"
    }
   ],
   "source": [
    "plt.figure(figsize = (8,8))\n",
    "plt.title('Gender-wise Bonus Distribution on the basis of Education')\n",
    "sns.barplot(x = 'Education', y = 'Total_Sales', hue = 'Gender', data = data)\n",
    "plt.grid(True)"
   ]
  },
  {
   "cell_type": "markdown",
   "id": "8b054dec",
   "metadata": {},
   "source": [
    "### Gender-wise Volume Distribution on the basis of Education"
   ]
  },
  {
   "cell_type": "code",
   "execution_count": 26,
   "id": "974ff8ed",
   "metadata": {},
   "outputs": [
    {
     "data": {
      "image/png": "[encoded data removed]",
      "text/plain": [
       "<Figure size 576x576 with 1 Axes>"
      ]
     },
     "metadata": {
      "needs_background": "light"
     },
     "output_type": "display_data"
    }
   ],
   "source": [
    "plt.figure(figsize = (8,8))\n",
    "plt.title('Gender-wise Volume Distribution on the basis of Education')\n",
    "sns.barplot(x = 'Education', y = 'Volume', hue = 'Gender', data = data)\n",
    "plt.grid(True)"
   ]
  },
  {
   "cell_type": "markdown",
   "id": "26713ddb",
   "metadata": {},
   "source": [
    "### Salary trend with respect to Age"
   ]
  },
  {
   "cell_type": "code",
   "execution_count": 27,
   "id": "25fb1e1f",
   "metadata": {},
   "outputs": [
    {
     "data": {
      "text/plain": [
       "Text(0.5, 1.0, 'Salary with respect to Age')"
      ]
     },
     "execution_count": 27,
     "metadata": {},
     "output_type": "execute_result"
    },
    {
     "data": {
      "image/png": "[encoded data removed]",
      "text/plain": [
       "<Figure size 720x360 with 1 Axes>"
      ]
     },
     "metadata": {
      "needs_background": "light"
     },
     "output_type": "display_data"
    }
   ],
   "source": [
    "plt.figure(figsize = (10,5))\n",
    "sns.lineplot(x=\"Age\",  y = 'Salary',data = data).set_title(\"Salary with respect to Age\")"
   ]
  },
  {
   "cell_type": "markdown",
   "id": "b2dbcad1",
   "metadata": {},
   "source": [
    "### Creating a checkpoint for further data preprocessing."
   ]
  },
  {
   "cell_type": "code",
   "execution_count": 28,
   "id": "94952f58",
   "metadata": {},
   "outputs": [],
   "source": [
    "df = data"
   ]
  },
  {
   "cell_type": "markdown",
   "id": "b291ad7a",
   "metadata": {},
   "source": [
    "### Label encoding change categorical to numerical to feed it to ML algorithm"
   ]
  },
  {
   "cell_type": "code",
   "execution_count": 29,
   "id": "27813f25",
   "metadata": {},
   "outputs": [],
   "source": [
    "from sklearn.preprocessing import LabelEncoder\n",
    "le = LabelEncoder()\n",
    "df['Gender'] = le.fit_transform(df['Gender'])\n",
    "df['Dependancies'] = le.fit_transform(df['Dependancies'])\n",
    "df['Calls'] = le.fit_transform(df['Calls'])\n",
    "df['Type'] = le.fit_transform(df['Type'])\n",
    "df['Billing'] = le.fit_transform(df['Billing'])\n",
    "df['Rating'] = le.fit_transform(df['Rating'])\n",
    "df['Education'] = le.fit_transform(df['Education'])"
   ]
  },
  {
   "cell_type": "markdown",
   "id": "89d191f9",
   "metadata": {},
   "source": [
    "### Separating dependant variable (target) and independent variables (Features)"
   ]
  },
  {
   "cell_type": "code",
   "execution_count": 30,
   "id": "aa759b58",
   "metadata": {},
   "outputs": [],
   "source": [
    "X = df.drop('Salary',axis = 1)\n",
    "Y = df['Salary']"
   ]
  },
  {
   "cell_type": "markdown",
   "id": "c43852a2",
   "metadata": {},
   "source": [
    "#### Printing the independent variables (Features)"
   ]
  },
  {
   "cell_type": "code",
   "execution_count": 31,
   "id": "53e5f819",
   "metadata": {},
   "outputs": [
    {
     "data": {
      "text/html": [
       "<div>\n",
       "<style scoped>\n",
       "    .dataframe tbody tr th:only-of-type {\n",
       "        vertical-align: middle;\n",
       "    }\n",
       "\n",
       "    .dataframe tbody tr th {\n",
       "        vertical-align: top;\n",
       "    }\n",
       "\n",
       "    .dataframe thead th {\n",
       "        text-align: right;\n",
       "    }\n",
       "</style>\n",
       "<table border=\"1\" class=\"dataframe\">\n",
       "  <thead>\n",
       "    <tr style=\"text-align: right;\">\n",
       "      <th></th>\n",
       "      <th>Gender</th>\n",
       "      <th>Business</th>\n",
       "      <th>Dependancies</th>\n",
       "      <th>Calls</th>\n",
       "      <th>Type</th>\n",
       "      <th>Billing</th>\n",
       "      <th>Rating</th>\n",
       "      <th>Age</th>\n",
       "      <th>Base_pay</th>\n",
       "      <th>Bonus</th>\n",
       "      <th>Unit_Price</th>\n",
       "      <th>Volume</th>\n",
       "      <th>openingbalance</th>\n",
       "      <th>closingbalance</th>\n",
       "      <th>low</th>\n",
       "      <th>Unit_Sales</th>\n",
       "      <th>Total_Sales</th>\n",
       "      <th>Months</th>\n",
       "      <th>Education</th>\n",
       "    </tr>\n",
       "  </thead>\n",
       "  <tbody>\n",
       "    <tr>\n",
       "      <th>0</th>\n",
       "      <td>0</td>\n",
       "      <td>0</td>\n",
       "      <td>0</td>\n",
       "      <td>1</td>\n",
       "      <td>0</td>\n",
       "      <td>0</td>\n",
       "      <td>1</td>\n",
       "      <td>18</td>\n",
       "      <td>2035.600</td>\n",
       "      <td>254.4500</td>\n",
       "      <td>3.77</td>\n",
       "      <td>21226600</td>\n",
       "      <td>3.75</td>\n",
       "      <td>3.76</td>\n",
       "      <td>3.65</td>\n",
       "      <td>18.25</td>\n",
       "      <td>18.80</td>\n",
       "      <td>0</td>\n",
       "      <td>1</td>\n",
       "    </tr>\n",
       "    <tr>\n",
       "      <th>1</th>\n",
       "      <td>0</td>\n",
       "      <td>0</td>\n",
       "      <td>0</td>\n",
       "      <td>1</td>\n",
       "      <td>0</td>\n",
       "      <td>0</td>\n",
       "      <td>1</td>\n",
       "      <td>19</td>\n",
       "      <td>2279.248</td>\n",
       "      <td>284.9060</td>\n",
       "      <td>3.74</td>\n",
       "      <td>10462800</td>\n",
       "      <td>3.85</td>\n",
       "      <td>3.68</td>\n",
       "      <td>3.65</td>\n",
       "      <td>18.40</td>\n",
       "      <td>18.85</td>\n",
       "      <td>0</td>\n",
       "      <td>1</td>\n",
       "    </tr>\n",
       "    <tr>\n",
       "      <th>2</th>\n",
       "      <td>1</td>\n",
       "      <td>0</td>\n",
       "      <td>0</td>\n",
       "      <td>1</td>\n",
       "      <td>0</td>\n",
       "      <td>1</td>\n",
       "      <td>0</td>\n",
       "      <td>22</td>\n",
       "      <td>2358.660</td>\n",
       "      <td>294.8325</td>\n",
       "      <td>3.89</td>\n",
       "      <td>18761000</td>\n",
       "      <td>4.23</td>\n",
       "      <td>4.29</td>\n",
       "      <td>3.72</td>\n",
       "      <td>18.70</td>\n",
       "      <td>18.90</td>\n",
       "      <td>0</td>\n",
       "      <td>1</td>\n",
       "    </tr>\n",
       "    <tr>\n",
       "      <th>3</th>\n",
       "      <td>0</td>\n",
       "      <td>1</td>\n",
       "      <td>0</td>\n",
       "      <td>1</td>\n",
       "      <td>0</td>\n",
       "      <td>1</td>\n",
       "      <td>1</td>\n",
       "      <td>21</td>\n",
       "      <td>2450.048</td>\n",
       "      <td>306.2560</td>\n",
       "      <td>4.35</td>\n",
       "      <td>66130600</td>\n",
       "      <td>4.26</td>\n",
       "      <td>4.31</td>\n",
       "      <td>3.83</td>\n",
       "      <td>18.75</td>\n",
       "      <td>19.00</td>\n",
       "      <td>0</td>\n",
       "      <td>1</td>\n",
       "    </tr>\n",
       "    <tr>\n",
       "      <th>4</th>\n",
       "      <td>1</td>\n",
       "      <td>0</td>\n",
       "      <td>0</td>\n",
       "      <td>1</td>\n",
       "      <td>0</td>\n",
       "      <td>1</td>\n",
       "      <td>1</td>\n",
       "      <td>23</td>\n",
       "      <td>2498.000</td>\n",
       "      <td>312.2500</td>\n",
       "      <td>4.34</td>\n",
       "      <td>26868200</td>\n",
       "      <td>4.79</td>\n",
       "      <td>4.41</td>\n",
       "      <td>4.08</td>\n",
       "      <td>18.80</td>\n",
       "      <td>19.05</td>\n",
       "      <td>1</td>\n",
       "      <td>1</td>\n",
       "    </tr>\n",
       "  </tbody>\n",
       "</table>\n",
       "</div>"
      ],
      "text/plain": [
       "   Gender  Business  Dependancies  Calls  Type  Billing  Rating  Age  \\\n",
       "0       0         0             0      1     0        0       1   18   \n",
       "1       0         0             0      1     0        0       1   19   \n",
       "2       1         0             0      1     0        1       0   22   \n",
       "3       0         1             0      1     0        1       1   21   \n",
       "4       1         0             0      1     0        1       1   23   \n",
       "\n",
       "   Base_pay     Bonus  Unit_Price    Volume  openingbalance  closingbalance  \\\n",
       "0  2035.600  254.4500        3.77  21226600            3.75            3.76   \n",
       "1  2279.248  284.9060        3.74  10462800            3.85            3.68   \n",
       "2  2358.660  294.8325        3.89  18761000            4.23            4.29   \n",
       "3  2450.048  306.2560        4.35  66130600            4.26            4.31   \n",
       "4  2498.000  312.2500        4.34  26868200            4.79            4.41   \n",
       "\n",
       "    low  Unit_Sales  Total_Sales  Months  Education  \n",
       "0  3.65       18.25        18.80       0          1  \n",
       "1  3.65       18.40        18.85       0          1  \n",
       "2  3.72       18.70        18.90       0          1  \n",
       "3  3.83       18.75        19.00       0          1  \n",
       "4  4.08       18.80        19.05       1          1  "
      ]
     },
     "execution_count": 31,
     "metadata": {},
     "output_type": "execute_result"
    }
   ],
   "source": [
    "X.head()"
   ]
  },
  {
   "cell_type": "markdown",
   "id": "5183c0dc",
   "metadata": {},
   "source": [
    "#### Printing the dependent variables (Target)"
   ]
  },
  {
   "cell_type": "code",
   "execution_count": 32,
   "id": "6e5fa018",
   "metadata": {},
   "outputs": [
    {
     "data": {
      "text/plain": [
       "0    5089.00\n",
       "1    5698.12\n",
       "2    5896.65\n",
       "Name: Salary, dtype: float64"
      ]
     },
     "execution_count": 32,
     "metadata": {},
     "output_type": "execute_result"
    }
   ],
   "source": [
    "Y.head(3)"
   ]
  },
  {
   "cell_type": "markdown",
   "id": "f40f1682",
   "metadata": {},
   "source": [
    "### Using model selection for splitting train-test sets in ratio of 7:3"
   ]
  },
  {
   "cell_type": "code",
   "execution_count": 33,
   "id": "50e3fdb3",
   "metadata": {},
   "outputs": [],
   "source": [
    "from sklearn.model_selection import train_test_split\n",
    "\n",
    "X_train, X_test, Y_train, Y_test = train_test_split(X, Y, test_size = 0.3, random_state = 0)"
   ]
  },
  {
   "cell_type": "markdown",
   "id": "934b723d",
   "metadata": {},
   "source": [
    "### Printing the shape of train-test shape of both independent and dependent variables"
   ]
  },
  {
   "cell_type": "code",
   "execution_count": 34,
   "id": "09aac634",
   "metadata": {},
   "outputs": [
    {
     "name": "stdout",
     "output_type": "stream",
     "text": [
      "(3472, 19)\n",
      "(1489, 19)\n",
      "(3472,)\n",
      "(1489,)\n"
     ]
    }
   ],
   "source": [
    "print(X_train.shape)\n",
    "print(X_test.shape)\n",
    "print(Y_train.shape)\n",
    "print(Y_test.shape)"
   ]
  },
  {
   "cell_type": "markdown",
   "id": "f9aad09b",
   "metadata": {},
   "source": [
    "### checking the spearman correlation between the variables to check if there is multicollinearity between the independent variables"
   ]
  },
  {
   "cell_type": "code",
   "execution_count": 35,
   "id": "54869dc9",
   "metadata": {},
   "outputs": [
    {
     "data": {
      "image/png": "[encoded data removed]",
      "text/plain": [
       "<Figure size 1080x864 with 2 Axes>"
      ]
     },
     "metadata": {
      "needs_background": "light"
     },
     "output_type": "display_data"
    }
   ],
   "source": [
    "plt.figure(figsize = (15,12))\n",
    "cor = X_train.corr(method='spearman')\n",
    "sns.heatmap(cor,annot=True,cmap =plt.cm.CMRmap_r)\n",
    "plt.show()"
   ]
  },
  {
   "cell_type": "markdown",
   "id": "93552fd8",
   "metadata": {},
   "source": [
    "### find and remove multi-collinearity if threshold is greater than 85% "
   ]
  },
  {
   "cell_type": "code",
   "execution_count": 36,
   "id": "672a23aa",
   "metadata": {},
   "outputs": [],
   "source": [
    "def correlation(dataset, threshold):\n",
    "    col_corr = set() # Set of all the names of correlated columns\n",
    "    corr_matrix = dataset.corr(method = 'spearman')\n",
    "    for i in range(len(corr_matrix.columns)):\n",
    "        for j in range(i):\n",
    "            if (corr_matrix.iloc[i, j]) > threshold: # we are interested in absolute coeff value\n",
    "                colname = corr_matrix.columns[i] # getting the name of column\n",
    "                col_corr.add(colname)\n",
    "    return col_corr"
   ]
  },
  {
   "cell_type": "markdown",
   "id": "f134276c",
   "metadata": {},
   "source": [
    "### checking the total no. of multicollinear features that can cause overfitting in our ML algorithm"
   ]
  },
  {
   "cell_type": "code",
   "execution_count": 37,
   "id": "101172fe",
   "metadata": {},
   "outputs": [
    {
     "data": {
      "text/plain": [
       "4"
      ]
     },
     "execution_count": 37,
     "metadata": {},
     "output_type": "execute_result"
    }
   ],
   "source": [
    "corr_features = correlation(X_train,0.85)\n",
    "len(set(corr_features))"
   ]
  },
  {
   "cell_type": "markdown",
   "id": "e26dd004",
   "metadata": {},
   "source": [
    "### Showing the names of multicollinear features having correlating more than 85% with each other"
   ]
  },
  {
   "cell_type": "code",
   "execution_count": 38,
   "id": "303bb001",
   "metadata": {},
   "outputs": [
    {
     "data": {
      "text/plain": [
       "{'Bonus', 'Total_Sales', 'Unit_Sales', 'low'}"
      ]
     },
     "execution_count": 38,
     "metadata": {},
     "output_type": "execute_result"
    }
   ],
   "source": [
    "corr_features"
   ]
  },
  {
   "cell_type": "markdown",
   "id": "b1e1154a",
   "metadata": {},
   "source": [
    "### Dropping these highly correlated features from both training and test independent features to remove multicollinearity"
   ]
  },
  {
   "cell_type": "code",
   "execution_count": 39,
   "id": "607ee4f2",
   "metadata": {},
   "outputs": [],
   "source": [
    "X_train = X_train.drop(corr_features,axis=1)\n",
    "X_test = X_test.drop(corr_features,axis=1)"
   ]
  },
  {
   "cell_type": "markdown",
   "id": "ffcef6a0",
   "metadata": {},
   "source": [
    "### Modified training dataset after removing multi-collinearity"
   ]
  },
  {
   "cell_type": "code",
   "execution_count": 40,
   "id": "fe285d46",
   "metadata": {},
   "outputs": [
    {
     "data": {
      "text/html": [
       "<div>\n",
       "<style scoped>\n",
       "    .dataframe tbody tr th:only-of-type {\n",
       "        vertical-align: middle;\n",
       "    }\n",
       "\n",
       "    .dataframe tbody tr th {\n",
       "        vertical-align: top;\n",
       "    }\n",
       "\n",
       "    .dataframe thead th {\n",
       "        text-align: right;\n",
       "    }\n",
       "</style>\n",
       "<table border=\"1\" class=\"dataframe\">\n",
       "  <thead>\n",
       "    <tr style=\"text-align: right;\">\n",
       "      <th></th>\n",
       "      <th>Gender</th>\n",
       "      <th>Business</th>\n",
       "      <th>Dependancies</th>\n",
       "      <th>Calls</th>\n",
       "      <th>Type</th>\n",
       "      <th>Billing</th>\n",
       "      <th>Rating</th>\n",
       "      <th>Age</th>\n",
       "      <th>Base_pay</th>\n",
       "      <th>Unit_Price</th>\n",
       "      <th>Volume</th>\n",
       "      <th>openingbalance</th>\n",
       "      <th>closingbalance</th>\n",
       "      <th>Months</th>\n",
       "      <th>Education</th>\n",
       "    </tr>\n",
       "  </thead>\n",
       "  <tbody>\n",
       "    <tr>\n",
       "      <th>1559</th>\n",
       "      <td>0</td>\n",
       "      <td>0</td>\n",
       "      <td>0</td>\n",
       "      <td>1</td>\n",
       "      <td>0</td>\n",
       "      <td>1</td>\n",
       "      <td>1</td>\n",
       "      <td>47</td>\n",
       "      <td>35534.35602</td>\n",
       "      <td>49.610001</td>\n",
       "      <td>1755800</td>\n",
       "      <td>28.530001</td>\n",
       "      <td>18.290001</td>\n",
       "      <td>1</td>\n",
       "      <td>3</td>\n",
       "    </tr>\n",
       "    <tr>\n",
       "      <th>4151</th>\n",
       "      <td>1</td>\n",
       "      <td>0</td>\n",
       "      <td>0</td>\n",
       "      <td>1</td>\n",
       "      <td>2</td>\n",
       "      <td>0</td>\n",
       "      <td>0</td>\n",
       "      <td>57</td>\n",
       "      <td>49220.96530</td>\n",
       "      <td>61.970001</td>\n",
       "      <td>1536800</td>\n",
       "      <td>33.119999</td>\n",
       "      <td>25.690001</td>\n",
       "      <td>57</td>\n",
       "      <td>3</td>\n",
       "    </tr>\n",
       "    <tr>\n",
       "      <th>3348</th>\n",
       "      <td>0</td>\n",
       "      <td>0</td>\n",
       "      <td>1</td>\n",
       "      <td>1</td>\n",
       "      <td>0</td>\n",
       "      <td>0</td>\n",
       "      <td>1</td>\n",
       "      <td>45</td>\n",
       "      <td>44549.19404</td>\n",
       "      <td>45.799999</td>\n",
       "      <td>3118200</td>\n",
       "      <td>61.110001</td>\n",
       "      <td>100.440002</td>\n",
       "      <td>33</td>\n",
       "      <td>0</td>\n",
       "    </tr>\n",
       "  </tbody>\n",
       "</table>\n",
       "</div>"
      ],
      "text/plain": [
       "      Gender  Business  Dependancies  Calls  Type  Billing  Rating  Age  \\\n",
       "1559       0         0             0      1     0        1       1   47   \n",
       "4151       1         0             0      1     2        0       0   57   \n",
       "3348       0         0             1      1     0        0       1   45   \n",
       "\n",
       "         Base_pay  Unit_Price   Volume  openingbalance  closingbalance  \\\n",
       "1559  35534.35602   49.610001  1755800       28.530001       18.290001   \n",
       "4151  49220.96530   61.970001  1536800       33.119999       25.690001   \n",
       "3348  44549.19404   45.799999  3118200       61.110001      100.440002   \n",
       "\n",
       "      Months  Education  \n",
       "1559       1          3  \n",
       "4151      57          3  \n",
       "3348      33          0  "
      ]
     },
     "execution_count": 40,
     "metadata": {},
     "output_type": "execute_result"
    }
   ],
   "source": [
    "X_train.head(3)"
   ]
  },
  {
   "cell_type": "markdown",
   "id": "2663111c",
   "metadata": {},
   "source": [
    "### Using Standardization of training features to handle outliers i.e., bring mean nearly to 0 and standard deviation towards 1"
   ]
  },
  {
   "cell_type": "code",
   "execution_count": 41,
   "id": "3cfe87ce",
   "metadata": {},
   "outputs": [
    {
     "name": "stdout",
     "output_type": "stream",
     "text": [
      "Scaled Dataset Using StandardScaler\n"
     ]
    },
    {
     "data": {
      "text/html": [
       "<div>\n",
       "<style scoped>\n",
       "    .dataframe tbody tr th:only-of-type {\n",
       "        vertical-align: middle;\n",
       "    }\n",
       "\n",
       "    .dataframe tbody tr th {\n",
       "        vertical-align: top;\n",
       "    }\n",
       "\n",
       "    .dataframe thead th {\n",
       "        text-align: right;\n",
       "    }\n",
       "</style>\n",
       "<table border=\"1\" class=\"dataframe\">\n",
       "  <thead>\n",
       "    <tr style=\"text-align: right;\">\n",
       "      <th></th>\n",
       "      <th>Gender</th>\n",
       "      <th>Business</th>\n",
       "      <th>Dependancies</th>\n",
       "      <th>Calls</th>\n",
       "      <th>Type</th>\n",
       "      <th>Billing</th>\n",
       "      <th>Rating</th>\n",
       "      <th>Age</th>\n",
       "      <th>Base_pay</th>\n",
       "      <th>Unit_Price</th>\n",
       "      <th>Volume</th>\n",
       "      <th>openingbalance</th>\n",
       "      <th>closingbalance</th>\n",
       "      <th>Months</th>\n",
       "      <th>Education</th>\n",
       "    </tr>\n",
       "  </thead>\n",
       "  <tbody>\n",
       "    <tr>\n",
       "      <th>0</th>\n",
       "      <td>-1.016261</td>\n",
       "      <td>-0.435725</td>\n",
       "      <td>-0.644523</td>\n",
       "      <td>0.318078</td>\n",
       "      <td>-0.827200</td>\n",
       "      <td>0.842820</td>\n",
       "      <td>1.705846</td>\n",
       "      <td>-0.555288</td>\n",
       "      <td>-0.433763</td>\n",
       "      <td>-0.021304</td>\n",
       "      <td>-0.320187</td>\n",
       "      <td>-0.370717</td>\n",
       "      <td>-0.681214</td>\n",
       "      <td>-1.277928</td>\n",
       "      <td>0.817424</td>\n",
       "    </tr>\n",
       "    <tr>\n",
       "      <th>1</th>\n",
       "      <td>0.983999</td>\n",
       "      <td>-0.435725</td>\n",
       "      <td>-0.644523</td>\n",
       "      <td>0.318078</td>\n",
       "      <td>1.555246</td>\n",
       "      <td>-1.186494</td>\n",
       "      <td>-0.586219</td>\n",
       "      <td>0.606624</td>\n",
       "      <td>0.920500</td>\n",
       "      <td>0.234190</td>\n",
       "      <td>-0.334010</td>\n",
       "      <td>-0.237137</td>\n",
       "      <td>-0.485560</td>\n",
       "      <td>0.996752</td>\n",
       "      <td>0.817424</td>\n",
       "    </tr>\n",
       "    <tr>\n",
       "      <th>2</th>\n",
       "      <td>-1.016261</td>\n",
       "      <td>-0.435725</td>\n",
       "      <td>1.551535</td>\n",
       "      <td>0.318078</td>\n",
       "      <td>-0.827200</td>\n",
       "      <td>-1.186494</td>\n",
       "      <td>1.705846</td>\n",
       "      <td>-0.787671</td>\n",
       "      <td>0.458238</td>\n",
       "      <td>-0.100061</td>\n",
       "      <td>-0.234195</td>\n",
       "      <td>0.577443</td>\n",
       "      <td>1.490808</td>\n",
       "      <td>0.021889</td>\n",
       "      <td>-1.232237</td>\n",
       "    </tr>\n",
       "    <tr>\n",
       "      <th>3</th>\n",
       "      <td>0.983999</td>\n",
       "      <td>-0.435725</td>\n",
       "      <td>1.551535</td>\n",
       "      <td>0.318078</td>\n",
       "      <td>1.555246</td>\n",
       "      <td>0.842820</td>\n",
       "      <td>-0.586219</td>\n",
       "      <td>0.258050</td>\n",
       "      <td>1.472499</td>\n",
       "      <td>1.360143</td>\n",
       "      <td>-0.358424</td>\n",
       "      <td>-0.237137</td>\n",
       "      <td>0.161949</td>\n",
       "      <td>1.524802</td>\n",
       "      <td>0.817424</td>\n",
       "    </tr>\n",
       "    <tr>\n",
       "      <th>4</th>\n",
       "      <td>0.983999</td>\n",
       "      <td>2.295027</td>\n",
       "      <td>-0.644523</td>\n",
       "      <td>0.318078</td>\n",
       "      <td>-0.827200</td>\n",
       "      <td>0.842820</td>\n",
       "      <td>-0.586219</td>\n",
       "      <td>1.419962</td>\n",
       "      <td>2.107789</td>\n",
       "      <td>2.482169</td>\n",
       "      <td>0.233080</td>\n",
       "      <td>-0.237137</td>\n",
       "      <td>2.108969</td>\n",
       "      <td>1.606041</td>\n",
       "      <td>0.817424</td>\n",
       "    </tr>\n",
       "  </tbody>\n",
       "</table>\n",
       "</div>"
      ],
      "text/plain": [
       "     Gender  Business  Dependancies     Calls      Type   Billing    Rating  \\\n",
       "0 -1.016261 -0.435725     -0.644523  0.318078 -0.827200  0.842820  1.705846   \n",
       "1  0.983999 -0.435725     -0.644523  0.318078  1.555246 -1.186494 -0.586219   \n",
       "2 -1.016261 -0.435725      1.551535  0.318078 -0.827200 -1.186494  1.705846   \n",
       "3  0.983999 -0.435725      1.551535  0.318078  1.555246  0.842820 -0.586219   \n",
       "4  0.983999  2.295027     -0.644523  0.318078 -0.827200  0.842820 -0.586219   \n",
       "\n",
       "        Age  Base_pay  Unit_Price    Volume  openingbalance  closingbalance  \\\n",
       "0 -0.555288 -0.433763   -0.021304 -0.320187       -0.370717       -0.681214   \n",
       "1  0.606624  0.920500    0.234190 -0.334010       -0.237137       -0.485560   \n",
       "2 -0.787671  0.458238   -0.100061 -0.234195        0.577443        1.490808   \n",
       "3  0.258050  1.472499    1.360143 -0.358424       -0.237137        0.161949   \n",
       "4  1.419962  2.107789    2.482169  0.233080       -0.237137        2.108969   \n",
       "\n",
       "     Months  Education  \n",
       "0 -1.277928   0.817424  \n",
       "1  0.996752   0.817424  \n",
       "2  0.021889  -1.232237  \n",
       "3  1.524802   0.817424  \n",
       "4  1.606041   0.817424  "
      ]
     },
     "execution_count": 41,
     "metadata": {},
     "output_type": "execute_result"
    }
   ],
   "source": [
    "from sklearn.preprocessing import StandardScaler\n",
    "scale = StandardScaler()\n",
    "\n",
    "X_train_scaled = scale.fit_transform(X_train.to_numpy())\n",
    "X_train_scaled = pd.DataFrame(X_train_scaled, columns=['Gender', 'Business', 'Dependancies','Calls','Type','Billing','Rating','Age','Base_pay','Unit_Price','Volume','openingbalance','closingbalance','Months','Education'])\n",
    " \n",
    "print(\"Scaled Dataset Using StandardScaler\")\n",
    "X_train_scaled.head()"
   ]
  },
  {
   "cell_type": "markdown",
   "id": "fe0183ce",
   "metadata": {},
   "source": [
    "### Changing the training response variable to DataFrame"
   ]
  },
  {
   "cell_type": "code",
   "execution_count": 42,
   "id": "aa428b62",
   "metadata": {},
   "outputs": [],
   "source": [
    "Y_train = pd.DataFrame(Y_train)"
   ]
  },
  {
   "cell_type": "markdown",
   "id": "e0d8a2ee",
   "metadata": {},
   "source": [
    "#### Displaying training response variable into DataFrame type"
   ]
  },
  {
   "cell_type": "code",
   "execution_count": 43,
   "id": "f213c032",
   "metadata": {},
   "outputs": [
    {
     "data": {
      "text/html": [
       "<div>\n",
       "<style scoped>\n",
       "    .dataframe tbody tr th:only-of-type {\n",
       "        vertical-align: middle;\n",
       "    }\n",
       "\n",
       "    .dataframe tbody tr th {\n",
       "        vertical-align: top;\n",
       "    }\n",
       "\n",
       "    .dataframe thead th {\n",
       "        text-align: right;\n",
       "    }\n",
       "</style>\n",
       "<table border=\"1\" class=\"dataframe\">\n",
       "  <thead>\n",
       "    <tr style=\"text-align: right;\">\n",
       "      <th></th>\n",
       "      <th>Salary</th>\n",
       "    </tr>\n",
       "  </thead>\n",
       "  <tbody>\n",
       "    <tr>\n",
       "      <th>1559</th>\n",
       "      <td>88835.89005</td>\n",
       "    </tr>\n",
       "    <tr>\n",
       "      <th>4151</th>\n",
       "      <td>123052.41320</td>\n",
       "    </tr>\n",
       "    <tr>\n",
       "      <th>3348</th>\n",
       "      <td>111372.98510</td>\n",
       "    </tr>\n",
       "    <tr>\n",
       "      <th>4695</th>\n",
       "      <td>136999.09900</td>\n",
       "    </tr>\n",
       "    <tr>\n",
       "      <th>4940</th>\n",
       "      <td>153050.22360</td>\n",
       "    </tr>\n",
       "    <tr>\n",
       "      <th>...</th>\n",
       "      <td>...</td>\n",
       "    </tr>\n",
       "    <tr>\n",
       "      <th>4962</th>\n",
       "      <td>157273.00070</td>\n",
       "    </tr>\n",
       "    <tr>\n",
       "      <th>3293</th>\n",
       "      <td>110630.06610</td>\n",
       "    </tr>\n",
       "    <tr>\n",
       "      <th>1681</th>\n",
       "      <td>90487.95861</td>\n",
       "    </tr>\n",
       "    <tr>\n",
       "      <th>2635</th>\n",
       "      <td>102289.87480</td>\n",
       "    </tr>\n",
       "    <tr>\n",
       "      <th>2761</th>\n",
       "      <td>103717.29040</td>\n",
       "    </tr>\n",
       "  </tbody>\n",
       "</table>\n",
       "<p>3472 rows × 1 columns</p>\n",
       "</div>"
      ],
      "text/plain": [
       "            Salary\n",
       "1559   88835.89005\n",
       "4151  123052.41320\n",
       "3348  111372.98510\n",
       "4695  136999.09900\n",
       "4940  153050.22360\n",
       "...            ...\n",
       "4962  157273.00070\n",
       "3293  110630.06610\n",
       "1681   90487.95861\n",
       "2635  102289.87480\n",
       "2761  103717.29040\n",
       "\n",
       "[3472 rows x 1 columns]"
      ]
     },
     "execution_count": 43,
     "metadata": {},
     "output_type": "execute_result"
    }
   ],
   "source": [
    "Y_train"
   ]
  },
  {
   "cell_type": "markdown",
   "id": "60cfc7c5",
   "metadata": {},
   "source": [
    "### Using Standardization of training dependent/response feature to handle outliers i.e., bring mean nearly to 0 and standard deviation towards 1"
   ]
  },
  {
   "cell_type": "code",
   "execution_count": 44,
   "id": "2b800afb",
   "metadata": {},
   "outputs": [
    {
     "name": "stdout",
     "output_type": "stream",
     "text": [
      "Scaled Dataset Using StandardScaler\n"
     ]
    },
    {
     "data": {
      "text/html": [
       "<div>\n",
       "<style scoped>\n",
       "    .dataframe tbody tr th:only-of-type {\n",
       "        vertical-align: middle;\n",
       "    }\n",
       "\n",
       "    .dataframe tbody tr th {\n",
       "        vertical-align: top;\n",
       "    }\n",
       "\n",
       "    .dataframe thead th {\n",
       "        text-align: right;\n",
       "    }\n",
       "</style>\n",
       "<table border=\"1\" class=\"dataframe\">\n",
       "  <thead>\n",
       "    <tr style=\"text-align: right;\">\n",
       "      <th></th>\n",
       "      <th>Salary</th>\n",
       "    </tr>\n",
       "  </thead>\n",
       "  <tbody>\n",
       "    <tr>\n",
       "      <th>0</th>\n",
       "      <td>-0.433477</td>\n",
       "    </tr>\n",
       "    <tr>\n",
       "      <th>1</th>\n",
       "      <td>0.927394</td>\n",
       "    </tr>\n",
       "    <tr>\n",
       "      <th>2</th>\n",
       "      <td>0.462876</td>\n",
       "    </tr>\n",
       "    <tr>\n",
       "      <th>3</th>\n",
       "      <td>1.482086</td>\n",
       "    </tr>\n",
       "    <tr>\n",
       "      <th>4</th>\n",
       "      <td>2.120477</td>\n",
       "    </tr>\n",
       "  </tbody>\n",
       "</table>\n",
       "</div>"
      ],
      "text/plain": [
       "     Salary\n",
       "0 -0.433477\n",
       "1  0.927394\n",
       "2  0.462876\n",
       "3  1.482086\n",
       "4  2.120477"
      ]
     },
     "execution_count": 44,
     "metadata": {},
     "output_type": "execute_result"
    }
   ],
   "source": [
    "from sklearn.preprocessing import StandardScaler\n",
    "scale = StandardScaler()\n",
    "\n",
    "Y_train_scaled = scale.fit_transform(Y_train.to_numpy())\n",
    "Y_train_scaled = pd.DataFrame(Y_train_scaled, columns=['Salary'])\n",
    "print(\"Scaled Dataset Using StandardScaler\")\n",
    "Y_train_scaled.head()"
   ]
  },
  {
   "cell_type": "markdown",
   "id": "f499d4cf",
   "metadata": {},
   "source": [
    "### Changing the testing response variable to DataFrame"
   ]
  },
  {
   "cell_type": "code",
   "execution_count": 45,
   "id": "9e901f1d",
   "metadata": {},
   "outputs": [],
   "source": [
    "Y_test = pd.DataFrame(Y_test)"
   ]
  },
  {
   "cell_type": "markdown",
   "id": "9d8ddb01",
   "metadata": {},
   "source": [
    "### Using Standardization of testing dependent/response variable to handle outliers i.e., bring mean nearly to 0 and standard deviation towards 1"
   ]
  },
  {
   "cell_type": "code",
   "execution_count": 46,
   "id": "12359cdd",
   "metadata": {},
   "outputs": [
    {
     "name": "stdout",
     "output_type": "stream",
     "text": [
      "Scaled Dataset Using StandardScaler\n"
     ]
    },
    {
     "data": {
      "text/html": [
       "<div>\n",
       "<style scoped>\n",
       "    .dataframe tbody tr th:only-of-type {\n",
       "        vertical-align: middle;\n",
       "    }\n",
       "\n",
       "    .dataframe tbody tr th {\n",
       "        vertical-align: top;\n",
       "    }\n",
       "\n",
       "    .dataframe thead th {\n",
       "        text-align: right;\n",
       "    }\n",
       "</style>\n",
       "<table border=\"1\" class=\"dataframe\">\n",
       "  <thead>\n",
       "    <tr style=\"text-align: right;\">\n",
       "      <th></th>\n",
       "      <th>Salary</th>\n",
       "    </tr>\n",
       "  </thead>\n",
       "  <tbody>\n",
       "    <tr>\n",
       "      <th>0</th>\n",
       "      <td>-0.190081</td>\n",
       "    </tr>\n",
       "    <tr>\n",
       "      <th>1</th>\n",
       "      <td>-0.121182</td>\n",
       "    </tr>\n",
       "    <tr>\n",
       "      <th>2</th>\n",
       "      <td>-0.226524</td>\n",
       "    </tr>\n",
       "    <tr>\n",
       "      <th>3</th>\n",
       "      <td>0.999411</td>\n",
       "    </tr>\n",
       "    <tr>\n",
       "      <th>4</th>\n",
       "      <td>-0.471781</td>\n",
       "    </tr>\n",
       "  </tbody>\n",
       "</table>\n",
       "</div>"
      ],
      "text/plain": [
       "     Salary\n",
       "0 -0.190081\n",
       "1 -0.121182\n",
       "2 -0.226524\n",
       "3  0.999411\n",
       "4 -0.471781"
      ]
     },
     "execution_count": 46,
     "metadata": {},
     "output_type": "execute_result"
    }
   ],
   "source": [
    "from sklearn.preprocessing import StandardScaler\n",
    "scale = StandardScaler()\n",
    "\n",
    "Y_test_scaled = scale.fit_transform(Y_test.to_numpy())\n",
    "Y_test_scaled = pd.DataFrame(Y_test_scaled, columns=['Salary'])\n",
    "print(\"Scaled Dataset Using StandardScaler\")\n",
    "Y_test_scaled.head()"
   ]
  },
  {
   "cell_type": "markdown",
   "id": "c56db1c9",
   "metadata": {},
   "source": [
    "### Using Standardization of testing independent features to handle outliers i.e., bring mean nearly to 0 and standard deviation towards 1"
   ]
  },
  {
   "cell_type": "code",
   "execution_count": 47,
   "id": "31507612",
   "metadata": {},
   "outputs": [
    {
     "name": "stdout",
     "output_type": "stream",
     "text": [
      "Scaled Dataset Using StandardScaler\n"
     ]
    },
    {
     "data": {
      "text/html": [
       "<div>\n",
       "<style scoped>\n",
       "    .dataframe tbody tr th:only-of-type {\n",
       "        vertical-align: middle;\n",
       "    }\n",
       "\n",
       "    .dataframe tbody tr th {\n",
       "        vertical-align: top;\n",
       "    }\n",
       "\n",
       "    .dataframe thead th {\n",
       "        text-align: right;\n",
       "    }\n",
       "</style>\n",
       "<table border=\"1\" class=\"dataframe\">\n",
       "  <thead>\n",
       "    <tr style=\"text-align: right;\">\n",
       "      <th></th>\n",
       "      <th>Gender</th>\n",
       "      <th>Business</th>\n",
       "      <th>Dependancies</th>\n",
       "      <th>Calls</th>\n",
       "      <th>Type</th>\n",
       "      <th>Billing</th>\n",
       "      <th>Rating</th>\n",
       "      <th>Age</th>\n",
       "      <th>Base_pay</th>\n",
       "      <th>Unit_Price</th>\n",
       "      <th>Volume</th>\n",
       "      <th>openingbalance</th>\n",
       "      <th>closingbalance</th>\n",
       "      <th>Months</th>\n",
       "      <th>Education</th>\n",
       "    </tr>\n",
       "  </thead>\n",
       "  <tbody>\n",
       "    <tr>\n",
       "      <th>0</th>\n",
       "      <td>1.006063</td>\n",
       "      <td>-0.439442</td>\n",
       "      <td>-0.649737</td>\n",
       "      <td>0.32215</td>\n",
       "      <td>0.415829</td>\n",
       "      <td>0.804440</td>\n",
       "      <td>-0.628889</td>\n",
       "      <td>0.227407</td>\n",
       "      <td>-0.191811</td>\n",
       "      <td>-0.289157</td>\n",
       "      <td>-0.215878</td>\n",
       "      <td>0.448524</td>\n",
       "      <td>-0.400403</td>\n",
       "      <td>-1.058018</td>\n",
       "      <td>0.836797</td>\n",
       "    </tr>\n",
       "    <tr>\n",
       "      <th>1</th>\n",
       "      <td>1.006063</td>\n",
       "      <td>2.275615</td>\n",
       "      <td>-0.649737</td>\n",
       "      <td>0.32215</td>\n",
       "      <td>-0.805413</td>\n",
       "      <td>0.804440</td>\n",
       "      <td>1.590106</td>\n",
       "      <td>0.469185</td>\n",
       "      <td>-0.123348</td>\n",
       "      <td>0.240989</td>\n",
       "      <td>-0.227678</td>\n",
       "      <td>0.995775</td>\n",
       "      <td>-0.320317</td>\n",
       "      <td>-0.976190</td>\n",
       "      <td>-1.204696</td>\n",
       "    </tr>\n",
       "    <tr>\n",
       "      <th>2</th>\n",
       "      <td>1.006063</td>\n",
       "      <td>-0.439442</td>\n",
       "      <td>-0.649737</td>\n",
       "      <td>0.32215</td>\n",
       "      <td>1.637072</td>\n",
       "      <td>-1.243101</td>\n",
       "      <td>-0.628889</td>\n",
       "      <td>0.106519</td>\n",
       "      <td>-0.228023</td>\n",
       "      <td>-0.447526</td>\n",
       "      <td>0.753594</td>\n",
       "      <td>0.303377</td>\n",
       "      <td>-0.453901</td>\n",
       "      <td>-1.098932</td>\n",
       "      <td>-1.204696</td>\n",
       "    </tr>\n",
       "    <tr>\n",
       "      <th>3</th>\n",
       "      <td>-0.993974</td>\n",
       "      <td>-0.439442</td>\n",
       "      <td>-0.649737</td>\n",
       "      <td>0.32215</td>\n",
       "      <td>0.415829</td>\n",
       "      <td>0.804440</td>\n",
       "      <td>-0.628889</td>\n",
       "      <td>1.194517</td>\n",
       "      <td>0.990157</td>\n",
       "      <td>0.299192</td>\n",
       "      <td>0.079500</td>\n",
       "      <td>-0.239070</td>\n",
       "      <td>-0.408092</td>\n",
       "      <td>1.110417</td>\n",
       "      <td>0.836797</td>\n",
       "    </tr>\n",
       "    <tr>\n",
       "      <th>4</th>\n",
       "      <td>1.006063</td>\n",
       "      <td>-0.439442</td>\n",
       "      <td>1.539084</td>\n",
       "      <td>0.32215</td>\n",
       "      <td>1.637072</td>\n",
       "      <td>0.804440</td>\n",
       "      <td>-0.628889</td>\n",
       "      <td>-0.618814</td>\n",
       "      <td>-0.471730</td>\n",
       "      <td>-0.332176</td>\n",
       "      <td>-0.241870</td>\n",
       "      <td>-0.399050</td>\n",
       "      <td>-0.731322</td>\n",
       "      <td>-1.262587</td>\n",
       "      <td>0.836797</td>\n",
       "    </tr>\n",
       "  </tbody>\n",
       "</table>\n",
       "</div>"
      ],
      "text/plain": [
       "     Gender  Business  Dependancies    Calls      Type   Billing    Rating  \\\n",
       "0  1.006063 -0.439442     -0.649737  0.32215  0.415829  0.804440 -0.628889   \n",
       "1  1.006063  2.275615     -0.649737  0.32215 -0.805413  0.804440  1.590106   \n",
       "2  1.006063 -0.439442     -0.649737  0.32215  1.637072 -1.243101 -0.628889   \n",
       "3 -0.993974 -0.439442     -0.649737  0.32215  0.415829  0.804440 -0.628889   \n",
       "4  1.006063 -0.439442      1.539084  0.32215  1.637072  0.804440 -0.628889   \n",
       "\n",
       "        Age  Base_pay  Unit_Price    Volume  openingbalance  closingbalance  \\\n",
       "0  0.227407 -0.191811   -0.289157 -0.215878        0.448524       -0.400403   \n",
       "1  0.469185 -0.123348    0.240989 -0.227678        0.995775       -0.320317   \n",
       "2  0.106519 -0.228023   -0.447526  0.753594        0.303377       -0.453901   \n",
       "3  1.194517  0.990157    0.299192  0.079500       -0.239070       -0.408092   \n",
       "4 -0.618814 -0.471730   -0.332176 -0.241870       -0.399050       -0.731322   \n",
       "\n",
       "     Months  Education  \n",
       "0 -1.058018   0.836797  \n",
       "1 -0.976190  -1.204696  \n",
       "2 -1.098932  -1.204696  \n",
       "3  1.110417   0.836797  \n",
       "4 -1.262587   0.836797  "
      ]
     },
     "execution_count": 47,
     "metadata": {},
     "output_type": "execute_result"
    }
   ],
   "source": [
    "from sklearn.preprocessing import StandardScaler\n",
    "scale = StandardScaler()\n",
    "\n",
    "X_test_scaled = scale.fit_transform(X_test.to_numpy())\n",
    "X_test_scaled = pd.DataFrame(X_test_scaled, columns=['Gender', 'Business', 'Dependancies','Calls','Type','Billing','Rating','Age','Base_pay','Unit_Price','Volume','openingbalance','closingbalance','Months','Education'])\n",
    " \n",
    "print(\"Scaled Dataset Using StandardScaler\")\n",
    "X_test_scaled.head()"
   ]
  },
  {
   "cell_type": "markdown",
   "id": "d843cf79",
   "metadata": {},
   "source": [
    "### Printing the standardized shape of train-test shape of both independent and dependent variables."
   ]
  },
  {
   "cell_type": "code",
   "execution_count": 48,
   "id": "7dcd3ed8",
   "metadata": {},
   "outputs": [
    {
     "name": "stdout",
     "output_type": "stream",
     "text": [
      "(3472, 15)\n",
      "(1489, 15)\n",
      "(3472, 1)\n",
      "(1489, 1)\n"
     ]
    }
   ],
   "source": [
    "print(X_train_scaled.shape)\n",
    "print(X_test_scaled.shape)\n",
    "print(Y_train_scaled.shape)\n",
    "print(Y_test_scaled.shape)"
   ]
  },
  {
   "cell_type": "markdown",
   "id": "3c5df6c6",
   "metadata": {},
   "source": [
    "### feeding the standardized features to Linear Regression model"
   ]
  },
  {
   "cell_type": "code",
   "execution_count": 49,
   "id": "42a277dc",
   "metadata": {},
   "outputs": [
    {
     "data": {
      "text/plain": [
       "LinearRegression()"
      ]
     },
     "execution_count": 49,
     "metadata": {},
     "output_type": "execute_result"
    }
   ],
   "source": [
    "from sklearn.linear_model import LinearRegression\n",
    "linreg = LinearRegression()\n",
    "\n",
    "linreg.fit(X_train_scaled,Y_train_scaled)"
   ]
  },
  {
   "cell_type": "markdown",
   "id": "805b22ab",
   "metadata": {},
   "source": [
    "#### Prediction"
   ]
  },
  {
   "cell_type": "code",
   "execution_count": 50,
   "id": "b0892072",
   "metadata": {},
   "outputs": [],
   "source": [
    "y_pred = linreg.predict(X_test_scaled)"
   ]
  },
  {
   "cell_type": "markdown",
   "id": "deafc2a2",
   "metadata": {},
   "source": [
    "#### Checking accuracy score"
   ]
  },
  {
   "cell_type": "code",
   "execution_count": 51,
   "id": "3d49b178",
   "metadata": {},
   "outputs": [],
   "source": [
    "from sklearn.metrics import r2_score\n",
    "score = r2_score(Y_test_scaled,y_pred)"
   ]
  },
  {
   "cell_type": "code",
   "execution_count": 52,
   "id": "2b631636",
   "metadata": {},
   "outputs": [
    {
     "data": {
      "text/plain": [
       "0.9986751540422295"
      ]
     },
     "execution_count": 52,
     "metadata": {},
     "output_type": "execute_result"
    }
   ],
   "source": [
    "score"
   ]
  },
  {
   "cell_type": "markdown",
   "id": "8fd8922e",
   "metadata": {},
   "source": [
    "#### Checking *\"r2_score\"*, *\"adjusted r2 score\"*, *\"MAPE\"*"
   ]
  },
  {
   "cell_type": "code",
   "execution_count": 53,
   "id": "4829cb5e",
   "metadata": {},
   "outputs": [
    {
     "name": "stdout",
     "output_type": "stream",
     "text": [
      "Adjusted r square:0.9986580185260977\n",
      "r square 0.9986751540422295\n",
      "MAPE:Salary    2.696895\n",
      "dtype: float64\n"
     ]
    }
   ],
   "source": [
    "from sklearn import metrics\n",
    "\n",
    "def scores(y, y_):\n",
    "    print('Adjusted r square:{}'.format(1 - (1-metrics.r2_score(y, y_))*(len(y)-1)/(len(y)-X.shape[1]-1)))\n",
    "    print('r square', metrics.r2_score(y, y_))\n",
    "    print('MAPE:{}'.format(np.mean(np.abs((y - y_) / y))*100))\n",
    "    \n",
    "scores(Y_test_scaled, y_pred)"
   ]
  },
  {
   "cell_type": "markdown",
   "id": "b18ddaa2",
   "metadata": {},
   "source": [
    "### Cross-validation test to check the stability of our model with 30 folds"
   ]
  },
  {
   "cell_type": "code",
   "execution_count": 54,
   "id": "a27614e0",
   "metadata": {},
   "outputs": [
    {
     "data": {
      "text/plain": [
       "array([0.99928044, 0.99377184, 0.99956447, 0.99946042, 0.999932  ,\n",
       "       0.99994726, 0.9999553 , 0.99989752, 0.99940551, 0.99995583,\n",
       "       0.99995966, 0.99995374, 0.99973268, 0.99982276, 0.9994269 ,\n",
       "       0.9994489 , 0.99993037, 0.99976394, 0.99980077, 0.99980912,\n",
       "       0.9959636 , 0.99380587, 0.99993183, 0.99557654, 0.99044237,\n",
       "       0.99993287, 0.99973621, 0.99893107, 0.99219049, 0.99898811])"
      ]
     },
     "execution_count": 54,
     "metadata": {},
     "output_type": "execute_result"
    }
   ],
   "source": [
    "from sklearn.model_selection import cross_val_score\n",
    "scores = cross_val_score(linreg, X_train_scaled, Y_train_scaled, cv=30)\n",
    "scores"
   ]
  },
  {
   "cell_type": "markdown",
   "id": "e35ea1dc",
   "metadata": {},
   "source": [
    "#### Trying to verify the predictions accuracy"
   ]
  },
  {
   "cell_type": "code",
   "execution_count": 55,
   "id": "732cb1ac",
   "metadata": {},
   "outputs": [
    {
     "data": {
      "text/html": [
       "<div>\n",
       "<style scoped>\n",
       "    .dataframe tbody tr th:only-of-type {\n",
       "        vertical-align: middle;\n",
       "    }\n",
       "\n",
       "    .dataframe tbody tr th {\n",
       "        vertical-align: top;\n",
       "    }\n",
       "\n",
       "    .dataframe thead th {\n",
       "        text-align: right;\n",
       "    }\n",
       "</style>\n",
       "<table border=\"1\" class=\"dataframe\">\n",
       "  <thead>\n",
       "    <tr style=\"text-align: right;\">\n",
       "      <th></th>\n",
       "      <th>Salary</th>\n",
       "    </tr>\n",
       "  </thead>\n",
       "  <tbody>\n",
       "    <tr>\n",
       "      <th>0</th>\n",
       "      <td>-0.190081</td>\n",
       "    </tr>\n",
       "    <tr>\n",
       "      <th>1</th>\n",
       "      <td>-0.121182</td>\n",
       "    </tr>\n",
       "    <tr>\n",
       "      <th>2</th>\n",
       "      <td>-0.226524</td>\n",
       "    </tr>\n",
       "    <tr>\n",
       "      <th>3</th>\n",
       "      <td>0.999411</td>\n",
       "    </tr>\n",
       "    <tr>\n",
       "      <th>4</th>\n",
       "      <td>-0.471781</td>\n",
       "    </tr>\n",
       "    <tr>\n",
       "      <th>...</th>\n",
       "      <td>...</td>\n",
       "    </tr>\n",
       "    <tr>\n",
       "      <th>1484</th>\n",
       "      <td>0.189826</td>\n",
       "    </tr>\n",
       "    <tr>\n",
       "      <th>1485</th>\n",
       "      <td>-1.290055</td>\n",
       "    </tr>\n",
       "    <tr>\n",
       "      <th>1486</th>\n",
       "      <td>0.105706</td>\n",
       "    </tr>\n",
       "    <tr>\n",
       "      <th>1487</th>\n",
       "      <td>0.546437</td>\n",
       "    </tr>\n",
       "    <tr>\n",
       "      <th>1488</th>\n",
       "      <td>-0.246813</td>\n",
       "    </tr>\n",
       "  </tbody>\n",
       "</table>\n",
       "<p>1489 rows × 1 columns</p>\n",
       "</div>"
      ],
      "text/plain": [
       "        Salary\n",
       "0    -0.190081\n",
       "1    -0.121182\n",
       "2    -0.226524\n",
       "3     0.999411\n",
       "4    -0.471781\n",
       "...        ...\n",
       "1484  0.189826\n",
       "1485 -1.290055\n",
       "1486  0.105706\n",
       "1487  0.546437\n",
       "1488 -0.246813\n",
       "\n",
       "[1489 rows x 1 columns]"
      ]
     },
     "execution_count": 55,
     "metadata": {},
     "output_type": "execute_result"
    }
   ],
   "source": [
    "Y_test_scaled"
   ]
  },
  {
   "cell_type": "code",
   "execution_count": 56,
   "id": "5fc41b6d",
   "metadata": {},
   "outputs": [
    {
     "data": {
      "text/plain": [
       "array([[-0.19005591],\n",
       "       [-0.11984934],\n",
       "       [-0.22698142],\n",
       "       ...,\n",
       "       [ 0.10209817],\n",
       "       [ 0.53842466],\n",
       "       [-0.24770381]])"
      ]
     },
     "execution_count": 56,
     "metadata": {},
     "output_type": "execute_result"
    }
   ],
   "source": [
    "y_pred"
   ]
  },
  {
   "cell_type": "markdown",
   "id": "37cf882b",
   "metadata": {},
   "source": [
    "***Conclusion-*** Model looks very accurate, as some irrelevant features which are not affecting the target variables are included so suspecting that there could be overfitting which may lead to inaccuracy when new values for independent variables are fed to it."
   ]
  },
  {
   "cell_type": "markdown",
   "id": "a206e2e7",
   "metadata": {},
   "source": [
    "#### Displaying the previously fed data to Linear Regression Model"
   ]
  },
  {
   "cell_type": "code",
   "execution_count": 57,
   "id": "b0355a1a",
   "metadata": {},
   "outputs": [
    {
     "data": {
      "text/html": [
       "<div>\n",
       "<style scoped>\n",
       "    .dataframe tbody tr th:only-of-type {\n",
       "        vertical-align: middle;\n",
       "    }\n",
       "\n",
       "    .dataframe tbody tr th {\n",
       "        vertical-align: top;\n",
       "    }\n",
       "\n",
       "    .dataframe thead th {\n",
       "        text-align: right;\n",
       "    }\n",
       "</style>\n",
       "<table border=\"1\" class=\"dataframe\">\n",
       "  <thead>\n",
       "    <tr style=\"text-align: right;\">\n",
       "      <th></th>\n",
       "      <th>Gender</th>\n",
       "      <th>Business</th>\n",
       "      <th>Dependancies</th>\n",
       "      <th>Calls</th>\n",
       "      <th>Type</th>\n",
       "      <th>Billing</th>\n",
       "      <th>Rating</th>\n",
       "      <th>Age</th>\n",
       "      <th>Base_pay</th>\n",
       "      <th>Unit_Price</th>\n",
       "      <th>Volume</th>\n",
       "      <th>openingbalance</th>\n",
       "      <th>closingbalance</th>\n",
       "      <th>Months</th>\n",
       "      <th>Education</th>\n",
       "    </tr>\n",
       "  </thead>\n",
       "  <tbody>\n",
       "    <tr>\n",
       "      <th>0</th>\n",
       "      <td>-1.016261</td>\n",
       "      <td>-0.435725</td>\n",
       "      <td>-0.644523</td>\n",
       "      <td>0.318078</td>\n",
       "      <td>-0.827200</td>\n",
       "      <td>0.842820</td>\n",
       "      <td>1.705846</td>\n",
       "      <td>-0.555288</td>\n",
       "      <td>-0.433763</td>\n",
       "      <td>-0.021304</td>\n",
       "      <td>-0.320187</td>\n",
       "      <td>-0.370717</td>\n",
       "      <td>-0.681214</td>\n",
       "      <td>-1.277928</td>\n",
       "      <td>0.817424</td>\n",
       "    </tr>\n",
       "    <tr>\n",
       "      <th>1</th>\n",
       "      <td>0.983999</td>\n",
       "      <td>-0.435725</td>\n",
       "      <td>-0.644523</td>\n",
       "      <td>0.318078</td>\n",
       "      <td>1.555246</td>\n",
       "      <td>-1.186494</td>\n",
       "      <td>-0.586219</td>\n",
       "      <td>0.606624</td>\n",
       "      <td>0.920500</td>\n",
       "      <td>0.234190</td>\n",
       "      <td>-0.334010</td>\n",
       "      <td>-0.237137</td>\n",
       "      <td>-0.485560</td>\n",
       "      <td>0.996752</td>\n",
       "      <td>0.817424</td>\n",
       "    </tr>\n",
       "    <tr>\n",
       "      <th>2</th>\n",
       "      <td>-1.016261</td>\n",
       "      <td>-0.435725</td>\n",
       "      <td>1.551535</td>\n",
       "      <td>0.318078</td>\n",
       "      <td>-0.827200</td>\n",
       "      <td>-1.186494</td>\n",
       "      <td>1.705846</td>\n",
       "      <td>-0.787671</td>\n",
       "      <td>0.458238</td>\n",
       "      <td>-0.100061</td>\n",
       "      <td>-0.234195</td>\n",
       "      <td>0.577443</td>\n",
       "      <td>1.490808</td>\n",
       "      <td>0.021889</td>\n",
       "      <td>-1.232237</td>\n",
       "    </tr>\n",
       "    <tr>\n",
       "      <th>3</th>\n",
       "      <td>0.983999</td>\n",
       "      <td>-0.435725</td>\n",
       "      <td>1.551535</td>\n",
       "      <td>0.318078</td>\n",
       "      <td>1.555246</td>\n",
       "      <td>0.842820</td>\n",
       "      <td>-0.586219</td>\n",
       "      <td>0.258050</td>\n",
       "      <td>1.472499</td>\n",
       "      <td>1.360143</td>\n",
       "      <td>-0.358424</td>\n",
       "      <td>-0.237137</td>\n",
       "      <td>0.161949</td>\n",
       "      <td>1.524802</td>\n",
       "      <td>0.817424</td>\n",
       "    </tr>\n",
       "    <tr>\n",
       "      <th>4</th>\n",
       "      <td>0.983999</td>\n",
       "      <td>2.295027</td>\n",
       "      <td>-0.644523</td>\n",
       "      <td>0.318078</td>\n",
       "      <td>-0.827200</td>\n",
       "      <td>0.842820</td>\n",
       "      <td>-0.586219</td>\n",
       "      <td>1.419962</td>\n",
       "      <td>2.107789</td>\n",
       "      <td>2.482169</td>\n",
       "      <td>0.233080</td>\n",
       "      <td>-0.237137</td>\n",
       "      <td>2.108969</td>\n",
       "      <td>1.606041</td>\n",
       "      <td>0.817424</td>\n",
       "    </tr>\n",
       "  </tbody>\n",
       "</table>\n",
       "</div>"
      ],
      "text/plain": [
       "     Gender  Business  Dependancies     Calls      Type   Billing    Rating  \\\n",
       "0 -1.016261 -0.435725     -0.644523  0.318078 -0.827200  0.842820  1.705846   \n",
       "1  0.983999 -0.435725     -0.644523  0.318078  1.555246 -1.186494 -0.586219   \n",
       "2 -1.016261 -0.435725      1.551535  0.318078 -0.827200 -1.186494  1.705846   \n",
       "3  0.983999 -0.435725      1.551535  0.318078  1.555246  0.842820 -0.586219   \n",
       "4  0.983999  2.295027     -0.644523  0.318078 -0.827200  0.842820 -0.586219   \n",
       "\n",
       "        Age  Base_pay  Unit_Price    Volume  openingbalance  closingbalance  \\\n",
       "0 -0.555288 -0.433763   -0.021304 -0.320187       -0.370717       -0.681214   \n",
       "1  0.606624  0.920500    0.234190 -0.334010       -0.237137       -0.485560   \n",
       "2 -0.787671  0.458238   -0.100061 -0.234195        0.577443        1.490808   \n",
       "3  0.258050  1.472499    1.360143 -0.358424       -0.237137        0.161949   \n",
       "4  1.419962  2.107789    2.482169  0.233080       -0.237137        2.108969   \n",
       "\n",
       "     Months  Education  \n",
       "0 -1.277928   0.817424  \n",
       "1  0.996752   0.817424  \n",
       "2  0.021889  -1.232237  \n",
       "3  1.524802   0.817424  \n",
       "4  1.606041   0.817424  "
      ]
     },
     "execution_count": 57,
     "metadata": {},
     "output_type": "execute_result"
    }
   ],
   "source": [
    "X_train_scaled.head()"
   ]
  },
  {
   "cell_type": "markdown",
   "id": "670a8b05",
   "metadata": {},
   "source": [
    "On the basis of domain expertise I concluded that few features like Gender, Business, Dependancies, Age, Base_pay, Volume, openingbalance,closingbalance also plays no important role in prediction Salary."
   ]
  },
  {
   "cell_type": "markdown",
   "id": "5ec887ce",
   "metadata": {},
   "source": [
    "#### Taking only considerable features to train our ML model"
   ]
  },
  {
   "cell_type": "code",
   "execution_count": 58,
   "id": "38064dd0",
   "metadata": {},
   "outputs": [],
   "source": [
    "final_X_trainer = X_train_scaled[['Calls','Type','Billing','Rating','Months','Education','Unit_Price']]"
   ]
  },
  {
   "cell_type": "code",
   "execution_count": 59,
   "id": "c2e1a439",
   "metadata": {},
   "outputs": [
    {
     "data": {
      "text/html": [
       "<div>\n",
       "<style scoped>\n",
       "    .dataframe tbody tr th:only-of-type {\n",
       "        vertical-align: middle;\n",
       "    }\n",
       "\n",
       "    .dataframe tbody tr th {\n",
       "        vertical-align: top;\n",
       "    }\n",
       "\n",
       "    .dataframe thead th {\n",
       "        text-align: right;\n",
       "    }\n",
       "</style>\n",
       "<table border=\"1\" class=\"dataframe\">\n",
       "  <thead>\n",
       "    <tr style=\"text-align: right;\">\n",
       "      <th></th>\n",
       "      <th>Calls</th>\n",
       "      <th>Type</th>\n",
       "      <th>Billing</th>\n",
       "      <th>Rating</th>\n",
       "      <th>Months</th>\n",
       "      <th>Education</th>\n",
       "      <th>Unit_Price</th>\n",
       "    </tr>\n",
       "  </thead>\n",
       "  <tbody>\n",
       "    <tr>\n",
       "      <th>0</th>\n",
       "      <td>0.318078</td>\n",
       "      <td>-0.827200</td>\n",
       "      <td>0.842820</td>\n",
       "      <td>1.705846</td>\n",
       "      <td>-1.277928</td>\n",
       "      <td>0.817424</td>\n",
       "      <td>-0.021304</td>\n",
       "    </tr>\n",
       "    <tr>\n",
       "      <th>1</th>\n",
       "      <td>0.318078</td>\n",
       "      <td>1.555246</td>\n",
       "      <td>-1.186494</td>\n",
       "      <td>-0.586219</td>\n",
       "      <td>0.996752</td>\n",
       "      <td>0.817424</td>\n",
       "      <td>0.234190</td>\n",
       "    </tr>\n",
       "    <tr>\n",
       "      <th>2</th>\n",
       "      <td>0.318078</td>\n",
       "      <td>-0.827200</td>\n",
       "      <td>-1.186494</td>\n",
       "      <td>1.705846</td>\n",
       "      <td>0.021889</td>\n",
       "      <td>-1.232237</td>\n",
       "      <td>-0.100061</td>\n",
       "    </tr>\n",
       "    <tr>\n",
       "      <th>3</th>\n",
       "      <td>0.318078</td>\n",
       "      <td>1.555246</td>\n",
       "      <td>0.842820</td>\n",
       "      <td>-0.586219</td>\n",
       "      <td>1.524802</td>\n",
       "      <td>0.817424</td>\n",
       "      <td>1.360143</td>\n",
       "    </tr>\n",
       "    <tr>\n",
       "      <th>4</th>\n",
       "      <td>0.318078</td>\n",
       "      <td>-0.827200</td>\n",
       "      <td>0.842820</td>\n",
       "      <td>-0.586219</td>\n",
       "      <td>1.606041</td>\n",
       "      <td>0.817424</td>\n",
       "      <td>2.482169</td>\n",
       "    </tr>\n",
       "  </tbody>\n",
       "</table>\n",
       "</div>"
      ],
      "text/plain": [
       "      Calls      Type   Billing    Rating    Months  Education  Unit_Price\n",
       "0  0.318078 -0.827200  0.842820  1.705846 -1.277928   0.817424   -0.021304\n",
       "1  0.318078  1.555246 -1.186494 -0.586219  0.996752   0.817424    0.234190\n",
       "2  0.318078 -0.827200 -1.186494  1.705846  0.021889  -1.232237   -0.100061\n",
       "3  0.318078  1.555246  0.842820 -0.586219  1.524802   0.817424    1.360143\n",
       "4  0.318078 -0.827200  0.842820 -0.586219  1.606041   0.817424    2.482169"
      ]
     },
     "execution_count": 59,
     "metadata": {},
     "output_type": "execute_result"
    }
   ],
   "source": [
    "final_X_trainer.head()"
   ]
  },
  {
   "cell_type": "code",
   "execution_count": 60,
   "id": "3337b3e4",
   "metadata": {},
   "outputs": [],
   "source": [
    "final_X_tester = X_test_scaled[['Calls','Type','Billing','Rating','Months','Education','Unit_Price']]"
   ]
  },
  {
   "cell_type": "code",
   "execution_count": 61,
   "id": "09e787ff",
   "metadata": {},
   "outputs": [
    {
     "data": {
      "text/html": [
       "<div>\n",
       "<style scoped>\n",
       "    .dataframe tbody tr th:only-of-type {\n",
       "        vertical-align: middle;\n",
       "    }\n",
       "\n",
       "    .dataframe tbody tr th {\n",
       "        vertical-align: top;\n",
       "    }\n",
       "\n",
       "    .dataframe thead th {\n",
       "        text-align: right;\n",
       "    }\n",
       "</style>\n",
       "<table border=\"1\" class=\"dataframe\">\n",
       "  <thead>\n",
       "    <tr style=\"text-align: right;\">\n",
       "      <th></th>\n",
       "      <th>Calls</th>\n",
       "      <th>Type</th>\n",
       "      <th>Billing</th>\n",
       "      <th>Rating</th>\n",
       "      <th>Months</th>\n",
       "      <th>Education</th>\n",
       "      <th>Unit_Price</th>\n",
       "    </tr>\n",
       "  </thead>\n",
       "  <tbody>\n",
       "    <tr>\n",
       "      <th>0</th>\n",
       "      <td>0.32215</td>\n",
       "      <td>0.415829</td>\n",
       "      <td>0.804440</td>\n",
       "      <td>-0.628889</td>\n",
       "      <td>-1.058018</td>\n",
       "      <td>0.836797</td>\n",
       "      <td>-0.289157</td>\n",
       "    </tr>\n",
       "    <tr>\n",
       "      <th>1</th>\n",
       "      <td>0.32215</td>\n",
       "      <td>-0.805413</td>\n",
       "      <td>0.804440</td>\n",
       "      <td>1.590106</td>\n",
       "      <td>-0.976190</td>\n",
       "      <td>-1.204696</td>\n",
       "      <td>0.240989</td>\n",
       "    </tr>\n",
       "    <tr>\n",
       "      <th>2</th>\n",
       "      <td>0.32215</td>\n",
       "      <td>1.637072</td>\n",
       "      <td>-1.243101</td>\n",
       "      <td>-0.628889</td>\n",
       "      <td>-1.098932</td>\n",
       "      <td>-1.204696</td>\n",
       "      <td>-0.447526</td>\n",
       "    </tr>\n",
       "    <tr>\n",
       "      <th>3</th>\n",
       "      <td>0.32215</td>\n",
       "      <td>0.415829</td>\n",
       "      <td>0.804440</td>\n",
       "      <td>-0.628889</td>\n",
       "      <td>1.110417</td>\n",
       "      <td>0.836797</td>\n",
       "      <td>0.299192</td>\n",
       "    </tr>\n",
       "    <tr>\n",
       "      <th>4</th>\n",
       "      <td>0.32215</td>\n",
       "      <td>1.637072</td>\n",
       "      <td>0.804440</td>\n",
       "      <td>-0.628889</td>\n",
       "      <td>-1.262587</td>\n",
       "      <td>0.836797</td>\n",
       "      <td>-0.332176</td>\n",
       "    </tr>\n",
       "  </tbody>\n",
       "</table>\n",
       "</div>"
      ],
      "text/plain": [
       "     Calls      Type   Billing    Rating    Months  Education  Unit_Price\n",
       "0  0.32215  0.415829  0.804440 -0.628889 -1.058018   0.836797   -0.289157\n",
       "1  0.32215 -0.805413  0.804440  1.590106 -0.976190  -1.204696    0.240989\n",
       "2  0.32215  1.637072 -1.243101 -0.628889 -1.098932  -1.204696   -0.447526\n",
       "3  0.32215  0.415829  0.804440 -0.628889  1.110417   0.836797    0.299192\n",
       "4  0.32215  1.637072  0.804440 -0.628889 -1.262587   0.836797   -0.332176"
      ]
     },
     "execution_count": 61,
     "metadata": {},
     "output_type": "execute_result"
    }
   ],
   "source": [
    "final_X_tester.head()"
   ]
  },
  {
   "cell_type": "markdown",
   "id": "3e327aa2",
   "metadata": {},
   "source": [
    "### Training our LR model again and trying to predict and check the accuracy score with the considerable features only"
   ]
  },
  {
   "cell_type": "code",
   "execution_count": 62,
   "id": "d45ba8b0",
   "metadata": {},
   "outputs": [
    {
     "data": {
      "text/plain": [
       "LinearRegression()"
      ]
     },
     "execution_count": 62,
     "metadata": {},
     "output_type": "execute_result"
    }
   ],
   "source": [
    "from sklearn.linear_model import LinearRegression\n",
    "linreg = LinearRegression()\n",
    "\n",
    "linreg.fit(final_X_trainer,Y_train_scaled)"
   ]
  },
  {
   "cell_type": "code",
   "execution_count": 63,
   "id": "032cd033",
   "metadata": {},
   "outputs": [],
   "source": [
    "y_pred = linreg.predict(final_X_tester)"
   ]
  },
  {
   "cell_type": "code",
   "execution_count": 64,
   "id": "8257eff0",
   "metadata": {},
   "outputs": [],
   "source": [
    "from sklearn.metrics import r2_score\n",
    "score = r2_score(Y_test_scaled,y_pred)"
   ]
  },
  {
   "cell_type": "code",
   "execution_count": 65,
   "id": "dd071ad6",
   "metadata": {},
   "outputs": [
    {
     "data": {
      "text/plain": [
       "0.505491035120087"
      ]
     },
     "execution_count": 65,
     "metadata": {},
     "output_type": "execute_result"
    }
   ],
   "source": [
    "score"
   ]
  },
  {
   "cell_type": "markdown",
   "id": "685aaeba",
   "metadata": {},
   "source": [
    "Accuracy score is now very less"
   ]
  },
  {
   "cell_type": "markdown",
   "id": "34c8520d",
   "metadata": {},
   "source": [
    "#### Checking the stability of score using cross validation with 30 folds."
   ]
  },
  {
   "cell_type": "code",
   "execution_count": 66,
   "id": "a22e9cbb",
   "metadata": {},
   "outputs": [
    {
     "data": {
      "text/plain": [
       "array([0.56044529, 0.29352138, 0.44850134, 0.55111474, 0.49137107,\n",
       "       0.42843524, 0.50008884, 0.50243667, 0.39230173, 0.55076151,\n",
       "       0.41042223, 0.57548461, 0.47848886, 0.39642983, 0.50734964,\n",
       "       0.55471444, 0.43588902, 0.51652438, 0.59480538, 0.53799476,\n",
       "       0.5087576 , 0.39513395, 0.46184637, 0.50794626, 0.59266485,\n",
       "       0.45553489, 0.44734057, 0.57921866, 0.42034886, 0.5352014 ])"
      ]
     },
     "execution_count": 66,
     "metadata": {},
     "output_type": "execute_result"
    }
   ],
   "source": [
    "from sklearn.model_selection import cross_val_score\n",
    "scores = cross_val_score(linreg, final_X_trainer, Y_train_scaled, cv=30)\n",
    "scores"
   ]
  },
  {
   "cell_type": "markdown",
   "id": "8bc8ef9b",
   "metadata": {},
   "source": [
    "***Conclusion-*** Since the accuracy was too less and on top of that the stability of our model was also not upto the mark."
   ]
  },
  {
   "cell_type": "markdown",
   "id": "8aa16758",
   "metadata": {},
   "source": [
    "### Using RandomForestRegressor to train the model as Linear Regression model seems less accurate."
   ]
  },
  {
   "cell_type": "code",
   "execution_count": 67,
   "id": "beebb670",
   "metadata": {},
   "outputs": [
    {
     "data": {
      "text/plain": [
       "RandomForestRegressor()"
      ]
     },
     "execution_count": 67,
     "metadata": {},
     "output_type": "execute_result"
    }
   ],
   "source": [
    "from sklearn.ensemble import RandomForestRegressor\n",
    "regressor_RF = RandomForestRegressor()\n",
    "regressor_RF.fit(final_X_trainer, Y_train_scaled)"
   ]
  },
  {
   "cell_type": "markdown",
   "id": "de2beb8d",
   "metadata": {},
   "source": [
    "#### Predicting and checking the accuracy"
   ]
  },
  {
   "cell_type": "code",
   "execution_count": 68,
   "id": "7e899430",
   "metadata": {},
   "outputs": [],
   "source": [
    "predictions_RF = regressor_RF.predict(final_X_tester)"
   ]
  },
  {
   "cell_type": "code",
   "execution_count": 69,
   "id": "67a26020",
   "metadata": {},
   "outputs": [],
   "source": [
    "from sklearn.metrics import r2_score\n",
    "score = r2_score(Y_test_scaled,predictions_RF)"
   ]
  },
  {
   "cell_type": "code",
   "execution_count": 70,
   "id": "a1470f47",
   "metadata": {},
   "outputs": [
    {
     "data": {
      "text/plain": [
       "0.8959482959086509"
      ]
     },
     "execution_count": 70,
     "metadata": {},
     "output_type": "execute_result"
    }
   ],
   "source": [
    "score"
   ]
  },
  {
   "cell_type": "markdown",
   "id": "20387721",
   "metadata": {},
   "source": [
    "Accuracy score is very well with RandomForestRegressor"
   ]
  },
  {
   "cell_type": "markdown",
   "id": "ae2e01f7",
   "metadata": {},
   "source": [
    "#### Checking the stability of score using cross validation with 30 folds."
   ]
  },
  {
   "cell_type": "code",
   "execution_count": 71,
   "id": "2a0026b8",
   "metadata": {},
   "outputs": [
    {
     "data": {
      "text/plain": [
       "array([0.97325537, 0.99028697, 0.99584227, 0.98177698, 0.96471339,\n",
       "       0.99613242, 0.9906628 , 0.92445233, 0.97487573, 0.93941644,\n",
       "       0.90164347, 0.99790451, 0.9879651 , 0.96962551, 0.99324083,\n",
       "       0.90726223, 0.99474545, 0.98538678, 0.99123875, 0.9748934 ,\n",
       "       0.99349495, 0.90616105, 0.97361363, 0.97745847, 0.9871468 ,\n",
       "       0.99492683, 0.95805863, 0.99858042, 0.96335847, 0.97145791])"
      ]
     },
     "execution_count": 71,
     "metadata": {},
     "output_type": "execute_result"
    }
   ],
   "source": [
    "from sklearn.model_selection import cross_val_score\n",
    "scores = cross_val_score(regressor_RF, final_X_trainer, Y_train_scaled, cv=30)\n",
    "scores"
   ]
  },
  {
   "cell_type": "markdown",
   "id": "5468a016",
   "metadata": {},
   "source": [
    "***Conclusion-*** Since the accuracy was good and on top of that the stability of our model is also acceptable, so we can say that Random Forest Regressor trains our model better than Linear Regression."
   ]
  },
  {
   "cell_type": "markdown",
   "id": "1f0d35f7",
   "metadata": {},
   "source": [
    "### Using XG Boost Regressor to train the model to check if we can achieve more accurate predicting model than Random Forest Regressor."
   ]
  },
  {
   "cell_type": "code",
   "execution_count": 72,
   "id": "352dce39",
   "metadata": {},
   "outputs": [],
   "source": [
    "from xgboost import XGBRegressor\n",
    "regressor_XGB = XGBRegressor()\n",
    "regressor_XGB.fit(final_X_trainer, Y_train_scaled)\n",
    "XGBRegressor(base_score=0.5, booster='gbtree', colsample_bylevel=1,\n",
    "             colsample_bynode=1, colsample_bytree=1, gamma=0, gpu_id=-1,\n",
    "             importance_type='gain', interaction_constraints='',\n",
    "             learning_rate=0.300000012, max_delta_step=0, max_depth=6,\n",
    "             min_child_weight=1, monotone_constraints='()',\n",
    "             n_estimators=100, n_jobs=0, num_parallel_tree=1, random_state=0,\n",
    "             reg_alpha=0, reg_lambda=1, scale_pos_weight=1, subsample=1,\n",
    "             tree_method='exact', validate_parameters=1, verbosity=None)\n",
    "predictions_XGB = regressor_XGB.predict(final_X_tester)"
   ]
  },
  {
   "cell_type": "markdown",
   "id": "22c411ca",
   "metadata": {},
   "source": [
    "#### Predicting and checking the accuracy"
   ]
  },
  {
   "cell_type": "code",
   "execution_count": 73,
   "id": "fadb7ad9",
   "metadata": {},
   "outputs": [],
   "source": [
    "from sklearn.metrics import r2_score\n",
    "score = r2_score(Y_test_scaled,predictions_XGB)"
   ]
  },
  {
   "cell_type": "code",
   "execution_count": 74,
   "id": "c254fe64",
   "metadata": {},
   "outputs": [
    {
     "data": {
      "text/plain": [
       "0.8993864714504715"
      ]
     },
     "execution_count": 74,
     "metadata": {},
     "output_type": "execute_result"
    }
   ],
   "source": [
    "score"
   ]
  },
  {
   "cell_type": "markdown",
   "id": "e449d4a1",
   "metadata": {},
   "source": [
    "#### Checking the stability of score using cross validation with 30 folds."
   ]
  },
  {
   "cell_type": "code",
   "execution_count": 75,
   "id": "0d7f9337",
   "metadata": {},
   "outputs": [
    {
     "data": {
      "text/plain": [
       "array([0.96835237, 0.98342492, 0.99262666, 0.98849741, 0.96632448,\n",
       "       0.99466888, 0.9789125 , 0.89558352, 0.97282113, 0.94058417,\n",
       "       0.90751493, 0.99875642, 0.98978313, 0.93625642, 0.99074274,\n",
       "       0.90837775, 0.99424067, 0.91219523, 0.9973176 , 0.97530892,\n",
       "       0.98655233, 0.89223467, 0.94855501, 0.97707153, 0.99759179,\n",
       "       0.99879824, 0.96400123, 0.99745114, 0.91446901, 0.97908965])"
      ]
     },
     "execution_count": 75,
     "metadata": {},
     "output_type": "execute_result"
    }
   ],
   "source": [
    "from sklearn.model_selection import cross_val_score\n",
    "scores = cross_val_score(regressor_XGB, final_X_trainer, Y_train_scaled, cv=30)\n",
    "scores"
   ]
  },
  {
   "cell_type": "markdown",
   "id": "dd238765",
   "metadata": {},
   "source": [
    "***Conclusion-*** It is clear that accuracy is good for both when predicted with Random Forest Regression Model and XG Boost Regression model and on top of that the stability of both models are also acceptable, so we can say that either Random Forest Regressor or XG Boost Regressor trains our model better than Linear Regression."
   ]
  },
  {
   "cell_type": "markdown",
   "id": "20e9b689",
   "metadata": {},
   "source": [
    "### Performing Hyper-Parameter Tuning"
   ]
  },
  {
   "cell_type": "code",
   "execution_count": 76,
   "id": "f1890fae",
   "metadata": {},
   "outputs": [],
   "source": [
    "from sklearn.model_selection import RandomizedSearchCV"
   ]
  },
  {
   "cell_type": "code",
   "execution_count": 77,
   "id": "e8743313",
   "metadata": {},
   "outputs": [
    {
     "name": "stdout",
     "output_type": "stream",
     "text": [
      "Fitting 3 folds for each of 100 candidates, totalling 300 fits\n"
     ]
    },
    {
     "data": {
      "text/plain": [
       "RandomizedSearchCV(cv=3, estimator=RandomForestRegressor(), n_iter=100,\n",
       "                   n_jobs=-1,\n",
       "                   param_distributions={'max_depth': [10, 20, 30, 40, 50, 60,\n",
       "                                                      70, 80, 90, 100, None],\n",
       "                                        'min_samples_leaf': range(1, 2, 4),\n",
       "                                        'min_samples_split': (2, 5, 10),\n",
       "                                        'n_estimators': [200, 400, 600, 800,\n",
       "                                                         1000, 1200, 1400, 1600,\n",
       "                                                         1800, 2000]},\n",
       "                   random_state=42, verbose=2)"
      ]
     },
     "execution_count": 77,
     "metadata": {},
     "output_type": "execute_result"
    }
   ],
   "source": [
    "random_grid = {'n_estimators': [200, 400, 600, 800, 1000, 1200, 1400, 1600, 1800, 2000],\n",
    "               'max_depth': [10, 20, 30, 40, 50, 60, 70, 80, 90, 100, None],\n",
    "               'min_samples_split':range(2,5,1), \n",
    "               'min_samples_leaf':range(1, 2, 4),\n",
    "               'min_samples_split':(2, 5, 10)}\n",
    "rf_random = RandomizedSearchCV(estimator = regressor_RF, param_distributions = random_grid, n_iter = 100, cv = 3, verbose=2, random_state=42, n_jobs = -1)\n",
    "rf_random.fit(final_X_trainer, Y_train_scaled)"
   ]
  },
  {
   "cell_type": "code",
   "execution_count": 78,
   "id": "e97f90f5",
   "metadata": {},
   "outputs": [
    {
     "data": {
      "text/plain": [
       "RandomForestRegressor(max_depth=50, n_estimators=1000)"
      ]
     },
     "execution_count": 78,
     "metadata": {},
     "output_type": "execute_result"
    }
   ],
   "source": [
    "rf_random.best_estimator_"
   ]
  },
  {
   "cell_type": "code",
   "execution_count": 79,
   "id": "80397e36",
   "metadata": {},
   "outputs": [
    {
     "data": {
      "text/plain": [
       "{'n_estimators': 1000,\n",
       " 'min_samples_split': 2,\n",
       " 'min_samples_leaf': 1,\n",
       " 'max_depth': 50}"
      ]
     },
     "execution_count": 79,
     "metadata": {},
     "output_type": "execute_result"
    }
   ],
   "source": [
    "rf_random.best_params_"
   ]
  },
  {
   "cell_type": "markdown",
   "id": "80539280",
   "metadata": {},
   "source": [
    "#### Random Forest with Hyperparameter tuning"
   ]
  },
  {
   "cell_type": "code",
   "execution_count": 80,
   "id": "30b49676",
   "metadata": {},
   "outputs": [],
   "source": [
    "from sklearn.ensemble import RandomForestRegressor\n",
    "regressor_RF = RandomForestRegressor(max_depth= 100, min_samples_split=2,n_estimators=400, min_samples_leaf=1)"
   ]
  },
  {
   "cell_type": "code",
   "execution_count": 81,
   "id": "76437b59",
   "metadata": {},
   "outputs": [
    {
     "data": {
      "text/plain": [
       "RandomForestRegressor(max_depth=100, n_estimators=400)"
      ]
     },
     "execution_count": 81,
     "metadata": {},
     "output_type": "execute_result"
    }
   ],
   "source": [
    "regressor_RF.fit(final_X_trainer, Y_train_scaled)"
   ]
  },
  {
   "cell_type": "code",
   "execution_count": 82,
   "id": "e2fa75fd",
   "metadata": {},
   "outputs": [],
   "source": [
    "predictions_RF = regressor_RF.predict(final_X_tester)"
   ]
  },
  {
   "cell_type": "code",
   "execution_count": 83,
   "id": "e97e94ea",
   "metadata": {},
   "outputs": [],
   "source": [
    "predictions_RF = pd.DataFrame(predictions_RF)"
   ]
  },
  {
   "cell_type": "code",
   "execution_count": 84,
   "id": "b78645af",
   "metadata": {},
   "outputs": [],
   "source": [
    "#With Tuning \n",
    "from sklearn.metrics import r2_score\n",
    "score = r2_score(Y_test_scaled,predictions_RF)"
   ]
  },
  {
   "cell_type": "code",
   "execution_count": 85,
   "id": "b1862059",
   "metadata": {},
   "outputs": [
    {
     "data": {
      "text/plain": [
       "0.8943284674438348"
      ]
     },
     "execution_count": 85,
     "metadata": {},
     "output_type": "execute_result"
    }
   ],
   "source": [
    "score"
   ]
  },
  {
   "cell_type": "code",
   "execution_count": 86,
   "id": "4864f37f",
   "metadata": {},
   "outputs": [
    {
     "data": {
      "text/html": [
       "<div>\n",
       "<style scoped>\n",
       "    .dataframe tbody tr th:only-of-type {\n",
       "        vertical-align: middle;\n",
       "    }\n",
       "\n",
       "    .dataframe tbody tr th {\n",
       "        vertical-align: top;\n",
       "    }\n",
       "\n",
       "    .dataframe thead th {\n",
       "        text-align: right;\n",
       "    }\n",
       "</style>\n",
       "<table border=\"1\" class=\"dataframe\">\n",
       "  <thead>\n",
       "    <tr style=\"text-align: right;\">\n",
       "      <th></th>\n",
       "      <th>Salary</th>\n",
       "    </tr>\n",
       "  </thead>\n",
       "  <tbody>\n",
       "    <tr>\n",
       "      <th>0</th>\n",
       "      <td>-0.190081</td>\n",
       "    </tr>\n",
       "    <tr>\n",
       "      <th>1</th>\n",
       "      <td>-0.121182</td>\n",
       "    </tr>\n",
       "    <tr>\n",
       "      <th>2</th>\n",
       "      <td>-0.226524</td>\n",
       "    </tr>\n",
       "    <tr>\n",
       "      <th>3</th>\n",
       "      <td>0.999411</td>\n",
       "    </tr>\n",
       "    <tr>\n",
       "      <th>4</th>\n",
       "      <td>-0.471781</td>\n",
       "    </tr>\n",
       "    <tr>\n",
       "      <th>...</th>\n",
       "      <td>...</td>\n",
       "    </tr>\n",
       "    <tr>\n",
       "      <th>1484</th>\n",
       "      <td>0.189826</td>\n",
       "    </tr>\n",
       "    <tr>\n",
       "      <th>1485</th>\n",
       "      <td>-1.290055</td>\n",
       "    </tr>\n",
       "    <tr>\n",
       "      <th>1486</th>\n",
       "      <td>0.105706</td>\n",
       "    </tr>\n",
       "    <tr>\n",
       "      <th>1487</th>\n",
       "      <td>0.546437</td>\n",
       "    </tr>\n",
       "    <tr>\n",
       "      <th>1488</th>\n",
       "      <td>-0.246813</td>\n",
       "    </tr>\n",
       "  </tbody>\n",
       "</table>\n",
       "<p>1489 rows × 1 columns</p>\n",
       "</div>"
      ],
      "text/plain": [
       "        Salary\n",
       "0    -0.190081\n",
       "1    -0.121182\n",
       "2    -0.226524\n",
       "3     0.999411\n",
       "4    -0.471781\n",
       "...        ...\n",
       "1484  0.189826\n",
       "1485 -1.290055\n",
       "1486  0.105706\n",
       "1487  0.546437\n",
       "1488 -0.246813\n",
       "\n",
       "[1489 rows x 1 columns]"
      ]
     },
     "execution_count": 86,
     "metadata": {},
     "output_type": "execute_result"
    }
   ],
   "source": [
    "Y_test_scaled"
   ]
  },
  {
   "cell_type": "code",
   "execution_count": 87,
   "id": "369a580a",
   "metadata": {},
   "outputs": [
    {
     "data": {
      "text/html": [
       "<div>\n",
       "<style scoped>\n",
       "    .dataframe tbody tr th:only-of-type {\n",
       "        vertical-align: middle;\n",
       "    }\n",
       "\n",
       "    .dataframe tbody tr th {\n",
       "        vertical-align: top;\n",
       "    }\n",
       "\n",
       "    .dataframe thead th {\n",
       "        text-align: right;\n",
       "    }\n",
       "</style>\n",
       "<table border=\"1\" class=\"dataframe\">\n",
       "  <thead>\n",
       "    <tr style=\"text-align: right;\">\n",
       "      <th></th>\n",
       "      <th>0</th>\n",
       "    </tr>\n",
       "  </thead>\n",
       "  <tbody>\n",
       "    <tr>\n",
       "      <th>0</th>\n",
       "      <td>-0.248712</td>\n",
       "    </tr>\n",
       "    <tr>\n",
       "      <th>1</th>\n",
       "      <td>-0.089230</td>\n",
       "    </tr>\n",
       "    <tr>\n",
       "      <th>2</th>\n",
       "      <td>-0.189088</td>\n",
       "    </tr>\n",
       "    <tr>\n",
       "      <th>3</th>\n",
       "      <td>1.008958</td>\n",
       "    </tr>\n",
       "    <tr>\n",
       "      <th>4</th>\n",
       "      <td>-0.730987</td>\n",
       "    </tr>\n",
       "    <tr>\n",
       "      <th>...</th>\n",
       "      <td>...</td>\n",
       "    </tr>\n",
       "    <tr>\n",
       "      <th>1484</th>\n",
       "      <td>0.248903</td>\n",
       "    </tr>\n",
       "    <tr>\n",
       "      <th>1485</th>\n",
       "      <td>-1.229097</td>\n",
       "    </tr>\n",
       "    <tr>\n",
       "      <th>1486</th>\n",
       "      <td>0.124848</td>\n",
       "    </tr>\n",
       "    <tr>\n",
       "      <th>1487</th>\n",
       "      <td>0.573338</td>\n",
       "    </tr>\n",
       "    <tr>\n",
       "      <th>1488</th>\n",
       "      <td>-0.226969</td>\n",
       "    </tr>\n",
       "  </tbody>\n",
       "</table>\n",
       "<p>1489 rows × 1 columns</p>\n",
       "</div>"
      ],
      "text/plain": [
       "             0\n",
       "0    -0.248712\n",
       "1    -0.089230\n",
       "2    -0.189088\n",
       "3     1.008958\n",
       "4    -0.730987\n",
       "...        ...\n",
       "1484  0.248903\n",
       "1485 -1.229097\n",
       "1486  0.124848\n",
       "1487  0.573338\n",
       "1488 -0.226969\n",
       "\n",
       "[1489 rows x 1 columns]"
      ]
     },
     "execution_count": 87,
     "metadata": {},
     "output_type": "execute_result"
    }
   ],
   "source": [
    "predictions_RF"
   ]
  },
  {
   "cell_type": "code",
   "execution_count": null,
   "id": "099f32e3",
   "metadata": {},
   "outputs": [],
   "source": []
  }
 ],
 "metadata": {
  "kernelspec": {
   "display_name": "Python 3",
   "language": "python",
   "name": "python3"
  },
  "language_info": {
   "codemirror_mode": {
    "name": "ipython",
    "version": 3
   },
   "file_extension": ".py",
   "mimetype": "text/x-python",
   "name": "python",
   "nbconvert_exporter": "python",
   "pygments_lexer": "ipython3",
   "version": "3.8.8"
  }
 },
 "nbformat": 4,
 "nbformat_minor": 5
}
